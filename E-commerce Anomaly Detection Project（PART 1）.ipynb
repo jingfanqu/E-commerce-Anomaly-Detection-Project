{
 "cells": [
  {
   "cell_type": "markdown",
   "metadata": {},
   "source": [
    "   "
   ]
  },
  {
   "cell_type": "markdown",
   "metadata": {},
   "source": [
    "## Preprocessing"
   ]
  },
  {
   "cell_type": "code",
   "execution_count": 1,
   "metadata": {},
   "outputs": [],
   "source": [
    "import pandas as pd\n",
    "import numpy as np\n",
    "import matplotlib.pyplot as plt\n",
    "%matplotlib inline\n",
    "plt.rcParams['font.sans-serif'] = ['Arial Unicode MS'] \n",
    "plt.rcParams['axes.unicode_minus'] = False   "
   ]
  },
  {
   "cell_type": "code",
   "execution_count": 8,
   "metadata": {},
   "outputs": [],
   "source": [
    "data = pd.read_csv(r\"abnormal_orders.txt\")"
   ]
  },
  {
   "cell_type": "code",
   "execution_count": 9,
   "metadata": {},
   "outputs": [
    {
     "data": {
      "text/html": [
       "<div>\n",
       "<style scoped>\n",
       "    .dataframe tbody tr th:only-of-type {\n",
       "        vertical-align: middle;\n",
       "    }\n",
       "\n",
       "    .dataframe tbody tr th {\n",
       "        vertical-align: top;\n",
       "    }\n",
       "\n",
       "    .dataframe thead th {\n",
       "        text-align: right;\n",
       "    }\n",
       "</style>\n",
       "<table border=\"1\" class=\"dataframe\">\n",
       "  <thead>\n",
       "    <tr style=\"text-align: right;\">\n",
       "      <th></th>\n",
       "      <th>order_id</th>\n",
       "      <th>order_date</th>\n",
       "      <th>order_time</th>\n",
       "      <th>cat</th>\n",
       "      <th>attribution</th>\n",
       "      <th>pro_id</th>\n",
       "      <th>pro_brand</th>\n",
       "      <th>total_money</th>\n",
       "      <th>total_quantity</th>\n",
       "      <th>order_source</th>\n",
       "      <th>pay_type</th>\n",
       "      <th>user_id</th>\n",
       "      <th>city</th>\n",
       "      <th>abnormal_label</th>\n",
       "    </tr>\n",
       "  </thead>\n",
       "  <tbody>\n",
       "    <tr>\n",
       "      <th>0</th>\n",
       "      <td>4277880103</td>\n",
       "      <td>2013-10-17</td>\n",
       "      <td>13:09:16</td>\n",
       "      <td>NaN</td>\n",
       "      <td>GO</td>\n",
       "      <td>8000001215</td>\n",
       "      <td>NaN</td>\n",
       "      <td>1000.0</td>\n",
       "      <td>1000</td>\n",
       "      <td>游戏站点</td>\n",
       "      <td>当当支付</td>\n",
       "      <td>murongchun</td>\n",
       "      <td>北京市</td>\n",
       "      <td>0</td>\n",
       "    </tr>\n",
       "    <tr>\n",
       "      <th>1</th>\n",
       "      <td>4283851335</td>\n",
       "      <td>2013-09-23</td>\n",
       "      <td>14:09:49</td>\n",
       "      <td>手机摄影数码</td>\n",
       "      <td>POP</td>\n",
       "      <td>8002042497</td>\n",
       "      <td>三星</td>\n",
       "      <td>766000.0</td>\n",
       "      <td>200</td>\n",
       "      <td>主站</td>\n",
       "      <td>合并支付</td>\n",
       "      <td>dakehu_zy</td>\n",
       "      <td>上海市</td>\n",
       "      <td>1</td>\n",
       "    </tr>\n",
       "    <tr>\n",
       "      <th>2</th>\n",
       "      <td>4277700101</td>\n",
       "      <td>2013-08-27</td>\n",
       "      <td>14:26:38</td>\n",
       "      <td>NaN</td>\n",
       "      <td>GO</td>\n",
       "      <td>7000000960</td>\n",
       "      <td>国之美艺术品</td>\n",
       "      <td>8000.0</td>\n",
       "      <td>160</td>\n",
       "      <td>do.site_id</td>\n",
       "      <td>在线支付</td>\n",
       "      <td>1391175862</td>\n",
       "      <td>NaN</td>\n",
       "      <td>1</td>\n",
       "    </tr>\n",
       "    <tr>\n",
       "      <th>3</th>\n",
       "      <td>4276537082</td>\n",
       "      <td>2013-09-11</td>\n",
       "      <td>14:16:47</td>\n",
       "      <td>电视冰箱洗衣机空调</td>\n",
       "      <td>POP</td>\n",
       "      <td>8001992420</td>\n",
       "      <td>樱花</td>\n",
       "      <td>19900.0</td>\n",
       "      <td>100</td>\n",
       "      <td>主站</td>\n",
       "      <td>合并支付</td>\n",
       "      <td>qq-3be293b</td>\n",
       "      <td>泉州市</td>\n",
       "      <td>1</td>\n",
       "    </tr>\n",
       "    <tr>\n",
       "      <th>4</th>\n",
       "      <td>4281111595</td>\n",
       "      <td>2013-04-10</td>\n",
       "      <td>10:44:46</td>\n",
       "      <td>家具建材</td>\n",
       "      <td>POP</td>\n",
       "      <td>8002199518</td>\n",
       "      <td>纬度空间</td>\n",
       "      <td>100.0</td>\n",
       "      <td>100</td>\n",
       "      <td>主站</td>\n",
       "      <td>合并支付</td>\n",
       "      <td>nonscorpio</td>\n",
       "      <td>广州市</td>\n",
       "      <td>1</td>\n",
       "    </tr>\n",
       "  </tbody>\n",
       "</table>\n",
       "</div>"
      ],
      "text/plain": [
       "     order_id  order_date order_time        cat attribution      pro_id  \\\n",
       "0  4277880103  2013-10-17   13:09:16        NaN          GO  8000001215   \n",
       "1  4283851335  2013-09-23   14:09:49     手机摄影数码         POP  8002042497   \n",
       "2  4277700101  2013-08-27   14:26:38        NaN          GO  7000000960   \n",
       "3  4276537082  2013-09-11   14:16:47  电视冰箱洗衣机空调         POP  8001992420   \n",
       "4  4281111595  2013-04-10   10:44:46       家具建材         POP  8002199518   \n",
       "\n",
       "  pro_brand  total_money  total_quantity order_source pay_type     user_id  \\\n",
       "0       NaN       1000.0            1000         游戏站点     当当支付  murongchun   \n",
       "1        三星     766000.0             200           主站     合并支付   dakehu_zy   \n",
       "2    国之美艺术品       8000.0             160   do.site_id     在线支付  1391175862   \n",
       "3        樱花      19900.0             100           主站     合并支付  qq-3be293b   \n",
       "4      纬度空间        100.0             100           主站     合并支付  nonscorpio   \n",
       "\n",
       "  city  abnormal_label  \n",
       "0  北京市               0  \n",
       "1  上海市               1  \n",
       "2  NaN               1  \n",
       "3  泉州市               1  \n",
       "4  广州市               1  "
      ]
     },
     "execution_count": 9,
     "metadata": {},
     "output_type": "execute_result"
    }
   ],
   "source": [
    "data.head()"
   ]
  },
  {
   "cell_type": "code",
   "execution_count": 10,
   "metadata": {},
   "outputs": [
    {
     "data": {
      "text/plain": [
       "Index(['order_id', 'order_date', 'order_time', 'cat', 'attribution', 'pro_id',\n",
       "       'pro_brand', 'total_money', 'total_quantity', 'order_source',\n",
       "       'pay_type', 'user_id', 'city', 'abnormal_label'],\n",
       "      dtype='object')"
      ]
     },
     "execution_count": 10,
     "metadata": {},
     "output_type": "execute_result"
    }
   ],
   "source": [
    "data.columns"
   ]
  },
  {
   "cell_type": "markdown",
   "metadata": {},
   "source": [
    "#### Sample Size"
   ]
  },
  {
   "cell_type": "code",
   "execution_count": 11,
   "metadata": {},
   "outputs": [
    {
     "data": {
      "text/plain": [
       "(134190, 14)"
      ]
     },
     "execution_count": 11,
     "metadata": {},
     "output_type": "execute_result"
    }
   ],
   "source": [
    "data.shape #排除标签一共有13个特征，13.4w数据"
   ]
  },
  {
   "cell_type": "markdown",
   "metadata": {},
   "source": [
    "#### Explore Features"
   ]
  },
  {
   "cell_type": "code",
   "execution_count": 13,
   "metadata": {},
   "outputs": [
    {
     "data": {
      "text/plain": [
       "0    105733\n",
       "1     28457\n",
       "Name: abnormal_label, dtype: int64"
      ]
     },
     "execution_count": 13,
     "metadata": {},
     "output_type": "execute_result"
    }
   ],
   "source": [
    "data[\"abnormal_label\"].value_counts() "
   ]
  },
  {
   "cell_type": "code",
   "execution_count": 14,
   "metadata": {},
   "outputs": [
    {
     "data": {
      "text/plain": [
       "28457"
      ]
     },
     "execution_count": 14,
     "metadata": {},
     "output_type": "execute_result"
    }
   ],
   "source": [
    "(data[\"abnormal_label\"] == 1).sum()"
   ]
  },
  {
   "cell_type": "code",
   "execution_count": 15,
   "metadata": {},
   "outputs": [
    {
     "data": {
      "text/plain": [
       "0.2120649824875177"
      ]
     },
     "execution_count": 15,
     "metadata": {},
     "output_type": "execute_result"
    }
   ],
   "source": [
    "(data[\"abnormal_label\"] == 1).sum()/data.shape[0] #样本不均衡，但是不均衡的程度较轻"
   ]
  },
  {
   "cell_type": "code",
   "execution_count": 16,
   "metadata": {},
   "outputs": [
    {
     "data": {
      "text/plain": [
       "2013-10-31    690\n",
       "2013-03-21    429\n",
       "2013-11-01    426\n",
       "2013-01-24    422\n",
       "2013-03-23    416\n",
       "             ... \n",
       "2013-07-31     17\n",
       "2013-08-31     14\n",
       "2013-01-31      2\n",
       "2013-03-31      2\n",
       "2013-05-31      2\n",
       "Name: order_date, Length: 364, dtype: int64"
      ]
     },
     "execution_count": 16,
     "metadata": {},
     "output_type": "execute_result"
    }
   ],
   "source": [
    "data[\"order_date\"].value_counts()"
   ]
  },
  {
   "cell_type": "code",
   "execution_count": 17,
   "metadata": {},
   "outputs": [
    {
     "data": {
      "text/plain": [
       "19212"
      ]
     },
     "execution_count": 17,
     "metadata": {},
     "output_type": "execute_result"
    }
   ],
   "source": [
    "\n",
    "data[\"order_id\"].duplicated().sum()"
   ]
  },
  {
   "cell_type": "code",
   "execution_count": 18,
   "metadata": {},
   "outputs": [
    {
     "data": {
      "text/plain": [
       "手机摄影数码       20612\n",
       "生活电器厨卫电器     19281\n",
       "家纺寝居         18679\n",
       "电脑办公打印文仪     11405\n",
       "家居日用         10642\n",
       "电视冰箱洗衣机空调     9067\n",
       "美妆个护          9043\n",
       "汽车用品          6490\n",
       "家具建材          4941\n",
       "食品酒水          4669\n",
       "健康医疗          4252\n",
       "服饰鞋帽          4067\n",
       "运动户外          3934\n",
       "母婴用品玩具        2664\n",
       "箱包奢品          1962\n",
       "钟表首饰           860\n",
       "图书音像           232\n",
       "Name: cat, dtype: int64"
      ]
     },
     "execution_count": 18,
     "metadata": {},
     "output_type": "execute_result"
    }
   ],
   "source": [
    "data[\"cat\"].value_counts()"
   ]
  },
  {
   "cell_type": "code",
   "execution_count": 20,
   "metadata": {},
   "outputs": [
    {
     "data": {
      "text/plain": [
       "GO     91170\n",
       "POP    43020\n",
       "Name: attribution, dtype: int64"
      ]
     },
     "execution_count": 20,
     "metadata": {},
     "output_type": "execute_result"
    }
   ],
   "source": [
    "data[\"attribution\"].value_counts()\n",
    "#POP - Platform Open Plan\n",
    "#GO - self-operated sellers"
   ]
  },
  {
   "cell_type": "code",
   "execution_count": 21,
   "metadata": {},
   "outputs": [
    {
     "data": {
      "text/plain": [
       "0.6794097920858484"
      ]
     },
     "execution_count": 21,
     "metadata": {},
     "output_type": "execute_result"
    }
   ],
   "source": [
    "(data[\"attribution\"] == \"GO\").sum()/data.shape[0]"
   ]
  },
  {
   "cell_type": "code",
   "execution_count": 22,
   "metadata": {},
   "outputs": [
    {
     "data": {
      "text/plain": [
       "主站            96894\n",
       "抢购            16256\n",
       "手机站点           7098\n",
       "团购             6294\n",
       "手机抢购           3095\n",
       "do.site_id     2394\n",
       "手机团购           1074\n",
       "充值              703\n",
       "当当              377\n",
       "游戏站点              5\n",
       "Name: order_source, dtype: int64"
      ]
     },
     "execution_count": 22,
     "metadata": {},
     "output_type": "execute_result"
    }
   ],
   "source": [
    "data[\"order_source\"].value_counts()"
   ]
  },
  {
   "cell_type": "code",
   "execution_count": 23,
   "metadata": {},
   "outputs": [
    {
     "data": {
      "text/plain": [
       "合并支付    104274\n",
       "货到付款     26785\n",
       "当当支付      2511\n",
       "在线支付       421\n",
       "账户余额       199\n",
       "Name: pay_type, dtype: int64"
      ]
     },
     "execution_count": 23,
     "metadata": {},
     "output_type": "execute_result"
    }
   ],
   "source": [
    "data[\"pay_type\"].value_counts()\n",
    "#合并支付 - 购物车支付"
   ]
  },
  {
   "cell_type": "code",
   "execution_count": 25,
   "metadata": {},
   "outputs": [
    {
     "data": {
      "text/plain": [
       "北京市        14554\n",
       "上海市         6637\n",
       "广州市         6033\n",
       "深圳市         5468\n",
       "天津市         3393\n",
       "           ...  \n",
       "果洛州            1\n",
       "昌都地区           1\n",
       "四川省其他城市        1\n",
       "江西省其他城市        1\n",
       "神农架林区          1\n",
       "Name: city, Length: 365, dtype: int64"
      ]
     },
     "execution_count": 25,
     "metadata": {},
     "output_type": "execute_result"
    }
   ],
   "source": [
    "data[\"city\"].value_counts()"
   ]
  },
  {
   "cell_type": "code",
   "execution_count": 26,
   "metadata": {},
   "outputs": [
    {
     "name": "stdout",
     "output_type": "stream",
     "text": [
      "<class 'pandas.core.frame.DataFrame'>\n",
      "RangeIndex: 134190 entries, 0 to 134189\n",
      "Data columns (total 14 columns):\n",
      " #   Column          Non-Null Count   Dtype  \n",
      "---  ------          --------------   -----  \n",
      " 0   order_id        134190 non-null  int64  \n",
      " 1   order_date      134190 non-null  object \n",
      " 2   order_time      134190 non-null  object \n",
      " 3   cat             132800 non-null  object \n",
      " 4   attribution     134190 non-null  object \n",
      " 5   pro_id          134190 non-null  int64  \n",
      " 6   pro_brand       133418 non-null  object \n",
      " 7   total_money     134189 non-null  float64\n",
      " 8   total_quantity  134190 non-null  int64  \n",
      " 9   order_source    134190 non-null  object \n",
      " 10  pay_type        134190 non-null  object \n",
      " 11  user_id         134190 non-null  object \n",
      " 12  city            134188 non-null  object \n",
      " 13  abnormal_label  134190 non-null  int64  \n",
      "dtypes: float64(1), int64(4), object(9)\n",
      "memory usage: 14.3+ MB\n"
     ]
    }
   ],
   "source": [
    "data.info()"
   ]
  },
  {
   "cell_type": "markdown",
   "metadata": {},
   "source": [
    "- Sample size is 130,000\n",
    "- There are some missing values in this dataset\n"
   ]
  },
  {
   "cell_type": "code",
   "execution_count": 27,
   "metadata": {},
   "outputs": [
    {
     "data": {
      "text/html": [
       "<div>\n",
       "<style scoped>\n",
       "    .dataframe tbody tr th:only-of-type {\n",
       "        vertical-align: middle;\n",
       "    }\n",
       "\n",
       "    .dataframe tbody tr th {\n",
       "        vertical-align: top;\n",
       "    }\n",
       "\n",
       "    .dataframe thead th {\n",
       "        text-align: right;\n",
       "    }\n",
       "</style>\n",
       "<table border=\"1\" class=\"dataframe\">\n",
       "  <thead>\n",
       "    <tr style=\"text-align: right;\">\n",
       "      <th></th>\n",
       "      <th>order_id</th>\n",
       "      <th>pro_id</th>\n",
       "      <th>total_quantity</th>\n",
       "      <th>abnormal_label</th>\n",
       "    </tr>\n",
       "  </thead>\n",
       "  <tbody>\n",
       "    <tr>\n",
       "      <th>0</th>\n",
       "      <td>4277880103</td>\n",
       "      <td>8000001215</td>\n",
       "      <td>1000</td>\n",
       "      <td>0</td>\n",
       "    </tr>\n",
       "    <tr>\n",
       "      <th>1</th>\n",
       "      <td>4283851335</td>\n",
       "      <td>8002042497</td>\n",
       "      <td>200</td>\n",
       "      <td>1</td>\n",
       "    </tr>\n",
       "    <tr>\n",
       "      <th>2</th>\n",
       "      <td>4277700101</td>\n",
       "      <td>7000000960</td>\n",
       "      <td>160</td>\n",
       "      <td>1</td>\n",
       "    </tr>\n",
       "    <tr>\n",
       "      <th>3</th>\n",
       "      <td>4276537082</td>\n",
       "      <td>8001992420</td>\n",
       "      <td>100</td>\n",
       "      <td>1</td>\n",
       "    </tr>\n",
       "    <tr>\n",
       "      <th>4</th>\n",
       "      <td>4281111595</td>\n",
       "      <td>8002199518</td>\n",
       "      <td>100</td>\n",
       "      <td>1</td>\n",
       "    </tr>\n",
       "  </tbody>\n",
       "</table>\n",
       "</div>"
      ],
      "text/plain": [
       "     order_id      pro_id  total_quantity  abnormal_label\n",
       "0  4277880103  8000001215            1000               0\n",
       "1  4283851335  8002042497             200               1\n",
       "2  4277700101  7000000960             160               1\n",
       "3  4276537082  8001992420             100               1\n",
       "4  4281111595  8002199518             100               1"
      ]
     },
     "execution_count": 27,
     "metadata": {},
     "output_type": "execute_result"
    }
   ],
   "source": [
    "data.select_dtypes(include=\"int64\").head()"
   ]
  },
  {
   "cell_type": "markdown",
   "metadata": {},
   "source": [
    "  "
   ]
  },
  {
   "cell_type": "markdown",
   "metadata": {},
   "source": [
    "### Handling Missing Values"
   ]
  },
  {
   "cell_type": "code",
   "execution_count": 28,
   "metadata": {},
   "outputs": [
    {
     "data": {
      "text/plain": [
       "order_id             0\n",
       "order_date           0\n",
       "order_time           0\n",
       "cat               1390\n",
       "attribution          0\n",
       "pro_id               0\n",
       "pro_brand          772\n",
       "total_money          1\n",
       "total_quantity       0\n",
       "order_source         0\n",
       "pay_type             0\n",
       "user_id              0\n",
       "city                 2\n",
       "abnormal_label       0\n",
       "dtype: int64"
      ]
     },
     "execution_count": 28,
     "metadata": {},
     "output_type": "execute_result"
    }
   ],
   "source": [
    "data.isnull().sum()\n",
    "#inspect missing values"
   ]
  },
  {
   "cell_type": "code",
   "execution_count": 29,
   "metadata": {},
   "outputs": [
    {
     "data": {
      "text/plain": [
       "order_id          0.000000\n",
       "order_date        0.000000\n",
       "order_time        0.000000\n",
       "cat               1.035845\n",
       "attribution       0.000000\n",
       "pro_id            0.000000\n",
       "pro_brand         0.575304\n",
       "total_money       0.000745\n",
       "total_quantity    0.000000\n",
       "order_source      0.000000\n",
       "pay_type          0.000000\n",
       "user_id           0.000000\n",
       "city              0.001490\n",
       "abnormal_label    0.000000\n",
       "dtype: float64"
      ]
     },
     "execution_count": 29,
     "metadata": {},
     "output_type": "execute_result"
    }
   ],
   "source": [
    "data.isnull().sum()*100/data.shape[0]\n",
    "#missing value percentage "
   ]
  },
  {
   "cell_type": "markdown",
   "metadata": {},
   "source": [
    "- The percentage of missing value in 'city', 'total_money', and 'pro_brand' is small, so just ignore\n",
    "- There is 1.03% missing value in 'cat'. Technically, we can delete this column. In this case, I would like to double check if there are some conncetions between 'cat' and our label.\n"
   ]
  },
  {
   "cell_type": "code",
   "execution_count": 32,
   "metadata": {},
   "outputs": [
    {
     "data": {
      "text/plain": [
       "([], [])"
      ]
     },
     "execution_count": 32,
     "metadata": {},
     "output_type": "execute_result"
    },
    {
     "data": {
      "image/png": "[encoded data removed]",
      "text/plain": [
       "<Figure size 500x300 with 1 Axes>"
      ]
     },
     "metadata": {},
     "output_type": "display_data"
    }
   ],
   "source": [
    "import matplotlib.pyplot as plt\n",
    "\n",
    "# Setting up the plot\n",
    "plt.rcParams['font.sans-serif'] = ['Arial Unicode MS']  # Set font for English text\n",
    "plt.rcParams['axes.unicode_minus'] = False   # Fix for negative number display issue\n",
    "\n",
    "plt.figure(figsize=(5, 3), dpi=100)\n",
    "plt.scatter(2.8, 5, s=5000, c=\"#01a2d9\", alpha=0.7, label=\"Samples with Missing Values\")\n",
    "plt.scatter(4, 5, s=10000, c=\"#dc2624\", alpha=0.7, label=\"Anomalous Transaction Samples\")\n",
    "plt.xlim(1, 6)\n",
    "plt.ylim(2.5, 7)\n",
    "\n",
    "# Customizing the axes appearance\n",
    "ax = plt.gca()\n",
    "ax.spines['top'].set_visible(False)\n",
    "ax.spines['right'].set_visible(False)\n",
    "ax.spines['bottom'].set_visible(False)\n",
    "ax.spines['left'].set_visible(False)\n",
    "\n",
    "# Adding English text annotations\n",
    "plt.text(2, 5, s=\"Samples with Missing Values\", fontsize=10)\n",
    "plt.text(4, 5, s=\"        Anomalous Transaction Samples\", fontsize=10)\n",
    "plt.vlines(3.25, 3.5, 4.8, colors=\"k\", linestyles=\"dotted\")\n",
    "plt.text(3.015, 3, s=\"Samples with Both Missing Values and Anomalies\", fontsize=10)\n",
    "plt.text(3.015, 2.5, s=\"Larger Intersection Indicates Stronger Link Between Missing and Anomalous Samples\", fontsize=10)\n",
    "\n",
    "# Removing tick marks\n",
    "plt.xticks([])\n",
    "plt.yticks([])\n",
    "\n",
    "# Uncomment the following line to display the plot in an interactive environment like Jupyter Notebook\n",
    "# plt.show()\n"
   ]
  },
  {
   "cell_type": "code",
   "execution_count": null,
   "metadata": {},
   "outputs": [],
   "source": [
    "#inspect the proportion of the intersection to missing value in 'cat'"
   ]
  },
  {
   "cell_type": "code",
   "execution_count": 33,
   "metadata": {},
   "outputs": [
    {
     "data": {
      "text/plain": [
       "163"
      ]
     },
     "execution_count": 33,
     "metadata": {},
     "output_type": "execute_result"
    }
   ],
   "source": [
    "\n",
    "data.loc[data[\"cat\"].isnull(),\"abnormal_label\"].sum()"
   ]
  },
  {
   "cell_type": "code",
   "execution_count": 34,
   "metadata": {},
   "outputs": [
    {
     "data": {
      "text/plain": [
       "1390"
      ]
     },
     "execution_count": 34,
     "metadata": {},
     "output_type": "execute_result"
    }
   ],
   "source": [
    "\n",
    "data[\"cat\"].isnull().sum()"
   ]
  },
  {
   "cell_type": "code",
   "execution_count": 35,
   "metadata": {},
   "outputs": [
    {
     "data": {
      "text/plain": [
       "0.11726618705035971"
      ]
     },
     "execution_count": 35,
     "metadata": {},
     "output_type": "execute_result"
    }
   ],
   "source": [
    "163/1390"
   ]
  },
  {
   "cell_type": "code",
   "execution_count": null,
   "metadata": {},
   "outputs": [],
   "source": [
    "#The proportion is low and it indicates samples with missing values are not necessarily all anomalies"
   ]
  },
  {
   "cell_type": "code",
   "execution_count": null,
   "metadata": {},
   "outputs": [],
   "source": [
    "#Insepct the proportion of intersection to anomalous samples"
   ]
  },
  {
   "cell_type": "code",
   "execution_count": null,
   "metadata": {},
   "outputs": [],
   "source": [
    "\n",
    "#If the proportion is high, we can't just delete it."
   ]
  },
  {
   "cell_type": "code",
   "execution_count": 38,
   "metadata": {},
   "outputs": [
    {
     "name": "stdout",
     "output_type": "stream",
     "text": [
      "the proportion of anomalous samples to missing values in 'cat' is 11.727%\n",
      "the proportion of anomalous samples to missing values in 'pro_brand' is 20.984%\n"
     ]
    }
   ],
   "source": [
    "for i in [\"cat\",\"pro_brand\"]:\n",
    "    ratio1 = 100*data.loc[data[i].isnull(),\"abnormal_label\"].sum()/data[i].isnull().sum()\n",
    "    print(\"the proportion of anomalous samples to missing values in '{}' is {:.3f}%\".format(i,ratio1))"
   ]
  },
  {
   "cell_type": "markdown",
   "metadata": {},
   "source": [
    "**Conclusion: a sample missing brand or product category can not be necessarily considered as anomaly transaction. There is no strong connection between missing values and anomaly transaction.**"
   ]
  },
  {
   "cell_type": "code",
   "execution_count": 40,
   "metadata": {},
   "outputs": [
    {
     "name": "stdout",
     "output_type": "stream",
     "text": [
      "the proportion of missing value in 'cat' to anomalous samples is 0.573%\n",
      "the proportion of missing value in 'pro_brand' to anomalous samples is 0.569%\n"
     ]
    }
   ],
   "source": [
    "for i in [\"cat\",\"pro_brand\"]:\n",
    "    ratio2 = 100*data.loc[data[i].isnull(),\"abnormal_label\"].sum()/(data[\"abnormal_label\"]==1).sum()\n",
    "    print(\"the proportion of missing value in '{}' to anomalous samples is {:.3f}%\".format(i,ratio2))"
   ]
  },
  {
   "cell_type": "markdown",
   "metadata": {},
   "source": [
    "**Conclusion:In all anomalous samples, the proportion of missing value in 'cat' or 'pro_brand' is low.**"
   ]
  },
  {
   "cell_type": "code",
   "execution_count": 41,
   "metadata": {},
   "outputs": [],
   "source": [
    "data.dropna(how=\"any\",inplace=True) #delete all columns that contain missing values"
   ]
  },
  {
   "cell_type": "code",
   "execution_count": 42,
   "metadata": {},
   "outputs": [
    {
     "name": "stdout",
     "output_type": "stream",
     "text": [
      "<class 'pandas.core.frame.DataFrame'>\n",
      "Int64Index: 132761 entries, 1 to 134189\n",
      "Data columns (total 14 columns):\n",
      " #   Column          Non-Null Count   Dtype  \n",
      "---  ------          --------------   -----  \n",
      " 0   order_id        132761 non-null  int64  \n",
      " 1   order_date      132761 non-null  object \n",
      " 2   order_time      132761 non-null  object \n",
      " 3   cat             132761 non-null  object \n",
      " 4   attribution     132761 non-null  object \n",
      " 5   pro_id          132761 non-null  int64  \n",
      " 6   pro_brand       132761 non-null  object \n",
      " 7   total_money     132761 non-null  float64\n",
      " 8   total_quantity  132761 non-null  int64  \n",
      " 9   order_source    132761 non-null  object \n",
      " 10  pay_type        132761 non-null  object \n",
      " 11  user_id         132761 non-null  object \n",
      " 12  city            132761 non-null  object \n",
      " 13  abnormal_label  132761 non-null  int64  \n",
      "dtypes: float64(1), int64(4), object(9)\n",
      "memory usage: 15.2+ MB\n"
     ]
    }
   ],
   "source": [
    "data.info()"
   ]
  },
  {
   "cell_type": "code",
   "execution_count": 43,
   "metadata": {},
   "outputs": [],
   "source": [
    "data.index = range(data.shape[0])"
   ]
  },
  {
   "cell_type": "code",
   "execution_count": 44,
   "metadata": {},
   "outputs": [
    {
     "data": {
      "text/plain": [
       "132761"
      ]
     },
     "execution_count": 44,
     "metadata": {},
     "output_type": "execute_result"
    }
   ],
   "source": [
    "data.shape[0]"
   ]
  },
  {
   "cell_type": "code",
   "execution_count": 46,
   "metadata": {},
   "outputs": [
    {
     "data": {
      "text/plain": [
       "28284"
      ]
     },
     "execution_count": 46,
     "metadata": {},
     "output_type": "execute_result"
    }
   ],
   "source": [
    "(data[\"abnormal_label\"] == 1).sum()"
   ]
  },
  {
   "cell_type": "markdown",
   "metadata": {},
   "source": [
    "  "
   ]
  },
  {
   "cell_type": "markdown",
   "metadata": {},
   "source": [
    "### Handling Duplicated Values"
   ]
  },
  {
   "cell_type": "code",
   "execution_count": 49,
   "metadata": {},
   "outputs": [
    {
     "data": {
      "text/plain": [
       "18554"
      ]
     },
     "execution_count": 49,
     "metadata": {},
     "output_type": "execute_result"
    }
   ],
   "source": [
    "data[\"order_id\"].duplicated().sum() "
   ]
  },
  {
   "cell_type": "code",
   "execution_count": 50,
   "metadata": {},
   "outputs": [
    {
     "data": {
      "text/plain": [
       "8"
      ]
     },
     "execution_count": 50,
     "metadata": {},
     "output_type": "execute_result"
    }
   ],
   "source": [
    "data.duplicated().sum()"
   ]
  },
  {
   "cell_type": "code",
   "execution_count": 51,
   "metadata": {},
   "outputs": [],
   "source": [
    "data.drop_duplicates(inplace=True)"
   ]
  },
  {
   "cell_type": "code",
   "execution_count": 52,
   "metadata": {},
   "outputs": [
    {
     "data": {
      "text/plain": [
       "(132753, 14)"
      ]
     },
     "execution_count": 52,
     "metadata": {},
     "output_type": "execute_result"
    }
   ],
   "source": [
    "data.shape"
   ]
  },
  {
   "cell_type": "code",
   "execution_count": 53,
   "metadata": {},
   "outputs": [
    {
     "data": {
      "text/plain": [
       "4279118253    32\n",
       "4269390206    23\n",
       "4271884108    20\n",
       "4275856215    20\n",
       "4265415474    19\n",
       "              ..\n",
       "4146667708     1\n",
       "4146667654     1\n",
       "4146661886     1\n",
       "4146657953     1\n",
       "4285770056     1\n",
       "Name: order_id, Length: 114207, dtype: int64"
      ]
     },
     "execution_count": 53,
     "metadata": {},
     "output_type": "execute_result"
    }
   ],
   "source": [
    "data[\"order_id\"].value_counts()"
   ]
  },
  {
   "cell_type": "code",
   "execution_count": 54,
   "metadata": {},
   "outputs": [
    {
     "data": {
      "text/html": [
       "<div>\n",
       "<style scoped>\n",
       "    .dataframe tbody tr th:only-of-type {\n",
       "        vertical-align: middle;\n",
       "    }\n",
       "\n",
       "    .dataframe tbody tr th {\n",
       "        vertical-align: top;\n",
       "    }\n",
       "\n",
       "    .dataframe thead th {\n",
       "        text-align: right;\n",
       "    }\n",
       "</style>\n",
       "<table border=\"1\" class=\"dataframe\">\n",
       "  <thead>\n",
       "    <tr style=\"text-align: right;\">\n",
       "      <th></th>\n",
       "      <th>order_id</th>\n",
       "      <th>order_date</th>\n",
       "      <th>order_time</th>\n",
       "      <th>cat</th>\n",
       "      <th>attribution</th>\n",
       "      <th>pro_id</th>\n",
       "      <th>pro_brand</th>\n",
       "      <th>total_money</th>\n",
       "      <th>total_quantity</th>\n",
       "      <th>order_source</th>\n",
       "      <th>pay_type</th>\n",
       "      <th>user_id</th>\n",
       "      <th>city</th>\n",
       "      <th>abnormal_label</th>\n",
       "    </tr>\n",
       "  </thead>\n",
       "  <tbody>\n",
       "    <tr>\n",
       "      <th>95213</th>\n",
       "      <td>4279118253</td>\n",
       "      <td>2013-07-23</td>\n",
       "      <td>23:22:21</td>\n",
       "      <td>家具建材</td>\n",
       "      <td>GO</td>\n",
       "      <td>1000147804</td>\n",
       "      <td>西门子</td>\n",
       "      <td>10.6</td>\n",
       "      <td>1</td>\n",
       "      <td>主站</td>\n",
       "      <td>合并支付</td>\n",
       "      <td>cxh0111</td>\n",
       "      <td>湛江市</td>\n",
       "      <td>0</td>\n",
       "    </tr>\n",
       "    <tr>\n",
       "      <th>95214</th>\n",
       "      <td>4279118253</td>\n",
       "      <td>2013-11-08</td>\n",
       "      <td>23:22:21</td>\n",
       "      <td>家具建材</td>\n",
       "      <td>GO</td>\n",
       "      <td>1000147804</td>\n",
       "      <td>西门子</td>\n",
       "      <td>10.6</td>\n",
       "      <td>1</td>\n",
       "      <td>主站</td>\n",
       "      <td>合并支付</td>\n",
       "      <td>cxh0111</td>\n",
       "      <td>湛江市</td>\n",
       "      <td>0</td>\n",
       "    </tr>\n",
       "    <tr>\n",
       "      <th>95215</th>\n",
       "      <td>4279118253</td>\n",
       "      <td>2013-01-26</td>\n",
       "      <td>23:22:21</td>\n",
       "      <td>家具建材</td>\n",
       "      <td>GO</td>\n",
       "      <td>1000147606</td>\n",
       "      <td>西门子</td>\n",
       "      <td>20.6</td>\n",
       "      <td>1</td>\n",
       "      <td>主站</td>\n",
       "      <td>合并支付</td>\n",
       "      <td>cxh0111</td>\n",
       "      <td>湛江市</td>\n",
       "      <td>0</td>\n",
       "    </tr>\n",
       "    <tr>\n",
       "      <th>95216</th>\n",
       "      <td>4279118253</td>\n",
       "      <td>2013-02-03</td>\n",
       "      <td>23:22:21</td>\n",
       "      <td>家具建材</td>\n",
       "      <td>GO</td>\n",
       "      <td>1000147606</td>\n",
       "      <td>西门子</td>\n",
       "      <td>20.6</td>\n",
       "      <td>1</td>\n",
       "      <td>主站</td>\n",
       "      <td>合并支付</td>\n",
       "      <td>cxh0111</td>\n",
       "      <td>湛江市</td>\n",
       "      <td>0</td>\n",
       "    </tr>\n",
       "    <tr>\n",
       "      <th>95217</th>\n",
       "      <td>4279118253</td>\n",
       "      <td>2013-07-06</td>\n",
       "      <td>23:22:21</td>\n",
       "      <td>家具建材</td>\n",
       "      <td>GO</td>\n",
       "      <td>1000147606</td>\n",
       "      <td>西门子</td>\n",
       "      <td>20.6</td>\n",
       "      <td>1</td>\n",
       "      <td>主站</td>\n",
       "      <td>合并支付</td>\n",
       "      <td>cxh0111</td>\n",
       "      <td>湛江市</td>\n",
       "      <td>0</td>\n",
       "    </tr>\n",
       "    <tr>\n",
       "      <th>95218</th>\n",
       "      <td>4279118253</td>\n",
       "      <td>2013-04-28</td>\n",
       "      <td>23:22:21</td>\n",
       "      <td>家具建材</td>\n",
       "      <td>GO</td>\n",
       "      <td>1000147826</td>\n",
       "      <td>西门子</td>\n",
       "      <td>10.6</td>\n",
       "      <td>1</td>\n",
       "      <td>主站</td>\n",
       "      <td>合并支付</td>\n",
       "      <td>cxh0111</td>\n",
       "      <td>湛江市</td>\n",
       "      <td>0</td>\n",
       "    </tr>\n",
       "    <tr>\n",
       "      <th>95219</th>\n",
       "      <td>4279118253</td>\n",
       "      <td>2013-10-04</td>\n",
       "      <td>23:22:21</td>\n",
       "      <td>家具建材</td>\n",
       "      <td>GO</td>\n",
       "      <td>1000147826</td>\n",
       "      <td>西门子</td>\n",
       "      <td>10.6</td>\n",
       "      <td>1</td>\n",
       "      <td>主站</td>\n",
       "      <td>合并支付</td>\n",
       "      <td>cxh0111</td>\n",
       "      <td>湛江市</td>\n",
       "      <td>0</td>\n",
       "    </tr>\n",
       "    <tr>\n",
       "      <th>95220</th>\n",
       "      <td>4279118253</td>\n",
       "      <td>2013-02-21</td>\n",
       "      <td>23:22:21</td>\n",
       "      <td>家具建材</td>\n",
       "      <td>GO</td>\n",
       "      <td>1000147826</td>\n",
       "      <td>西门子</td>\n",
       "      <td>10.6</td>\n",
       "      <td>1</td>\n",
       "      <td>主站</td>\n",
       "      <td>合并支付</td>\n",
       "      <td>cxh0111</td>\n",
       "      <td>湛江市</td>\n",
       "      <td>0</td>\n",
       "    </tr>\n",
       "    <tr>\n",
       "      <th>95221</th>\n",
       "      <td>4279118253</td>\n",
       "      <td>2013-06-18</td>\n",
       "      <td>23:22:21</td>\n",
       "      <td>家具建材</td>\n",
       "      <td>GO</td>\n",
       "      <td>1000147826</td>\n",
       "      <td>西门子</td>\n",
       "      <td>10.6</td>\n",
       "      <td>1</td>\n",
       "      <td>主站</td>\n",
       "      <td>合并支付</td>\n",
       "      <td>cxh0111</td>\n",
       "      <td>湛江市</td>\n",
       "      <td>0</td>\n",
       "    </tr>\n",
       "    <tr>\n",
       "      <th>95222</th>\n",
       "      <td>4279118253</td>\n",
       "      <td>2013-09-25</td>\n",
       "      <td>23:22:21</td>\n",
       "      <td>家具建材</td>\n",
       "      <td>GO</td>\n",
       "      <td>1000147826</td>\n",
       "      <td>西门子</td>\n",
       "      <td>10.6</td>\n",
       "      <td>1</td>\n",
       "      <td>主站</td>\n",
       "      <td>合并支付</td>\n",
       "      <td>cxh0111</td>\n",
       "      <td>湛江市</td>\n",
       "      <td>0</td>\n",
       "    </tr>\n",
       "  </tbody>\n",
       "</table>\n",
       "</div>"
      ],
      "text/plain": [
       "         order_id  order_date order_time   cat attribution      pro_id  \\\n",
       "95213  4279118253  2013-07-23   23:22:21  家具建材          GO  1000147804   \n",
       "95214  4279118253  2013-11-08   23:22:21  家具建材          GO  1000147804   \n",
       "95215  4279118253  2013-01-26   23:22:21  家具建材          GO  1000147606   \n",
       "95216  4279118253  2013-02-03   23:22:21  家具建材          GO  1000147606   \n",
       "95217  4279118253  2013-07-06   23:22:21  家具建材          GO  1000147606   \n",
       "95218  4279118253  2013-04-28   23:22:21  家具建材          GO  1000147826   \n",
       "95219  4279118253  2013-10-04   23:22:21  家具建材          GO  1000147826   \n",
       "95220  4279118253  2013-02-21   23:22:21  家具建材          GO  1000147826   \n",
       "95221  4279118253  2013-06-18   23:22:21  家具建材          GO  1000147826   \n",
       "95222  4279118253  2013-09-25   23:22:21  家具建材          GO  1000147826   \n",
       "\n",
       "      pro_brand  total_money  total_quantity order_source pay_type  user_id  \\\n",
       "95213       西门子         10.6               1           主站     合并支付  cxh0111   \n",
       "95214       西门子         10.6               1           主站     合并支付  cxh0111   \n",
       "95215       西门子         20.6               1           主站     合并支付  cxh0111   \n",
       "95216       西门子         20.6               1           主站     合并支付  cxh0111   \n",
       "95217       西门子         20.6               1           主站     合并支付  cxh0111   \n",
       "95218       西门子         10.6               1           主站     合并支付  cxh0111   \n",
       "95219       西门子         10.6               1           主站     合并支付  cxh0111   \n",
       "95220       西门子         10.6               1           主站     合并支付  cxh0111   \n",
       "95221       西门子         10.6               1           主站     合并支付  cxh0111   \n",
       "95222       西门子         10.6               1           主站     合并支付  cxh0111   \n",
       "\n",
       "      city  abnormal_label  \n",
       "95213  湛江市               0  \n",
       "95214  湛江市               0  \n",
       "95215  湛江市               0  \n",
       "95216  湛江市               0  \n",
       "95217  湛江市               0  \n",
       "95218  湛江市               0  \n",
       "95219  湛江市               0  \n",
       "95220  湛江市               0  \n",
       "95221  湛江市               0  \n",
       "95222  湛江市               0  "
      ]
     },
     "execution_count": 54,
     "metadata": {},
     "output_type": "execute_result"
    }
   ],
   "source": [
    "data[data[\"order_id\"] == 4279118253].head(10)"
   ]
  },
  {
   "cell_type": "code",
   "execution_count": 55,
   "metadata": {},
   "outputs": [
    {
     "data": {
      "text/html": [
       "<div>\n",
       "<style scoped>\n",
       "    .dataframe tbody tr th:only-of-type {\n",
       "        vertical-align: middle;\n",
       "    }\n",
       "\n",
       "    .dataframe tbody tr th {\n",
       "        vertical-align: top;\n",
       "    }\n",
       "\n",
       "    .dataframe thead th {\n",
       "        text-align: right;\n",
       "    }\n",
       "</style>\n",
       "<table border=\"1\" class=\"dataframe\">\n",
       "  <thead>\n",
       "    <tr style=\"text-align: right;\">\n",
       "      <th></th>\n",
       "      <th>order_id</th>\n",
       "      <th>order_date</th>\n",
       "      <th>order_time</th>\n",
       "      <th>cat</th>\n",
       "      <th>attribution</th>\n",
       "      <th>pro_id</th>\n",
       "      <th>pro_brand</th>\n",
       "      <th>total_money</th>\n",
       "      <th>total_quantity</th>\n",
       "      <th>order_source</th>\n",
       "      <th>pay_type</th>\n",
       "      <th>user_id</th>\n",
       "      <th>city</th>\n",
       "      <th>abnormal_label</th>\n",
       "    </tr>\n",
       "  </thead>\n",
       "  <tbody>\n",
       "    <tr>\n",
       "      <th>76916</th>\n",
       "      <td>4269390206</td>\n",
       "      <td>2013-09-26</td>\n",
       "      <td>02:11:10</td>\n",
       "      <td>电视冰箱洗衣机空调</td>\n",
       "      <td>GO</td>\n",
       "      <td>1000324051</td>\n",
       "      <td>夏普</td>\n",
       "      <td>2588.0</td>\n",
       "      <td>1</td>\n",
       "      <td>主站</td>\n",
       "      <td>合并支付</td>\n",
       "      <td>1390109546</td>\n",
       "      <td>西安市</td>\n",
       "      <td>0</td>\n",
       "    </tr>\n",
       "    <tr>\n",
       "      <th>76917</th>\n",
       "      <td>4269390206</td>\n",
       "      <td>2013-03-09</td>\n",
       "      <td>02:11:10</td>\n",
       "      <td>电视冰箱洗衣机空调</td>\n",
       "      <td>POP</td>\n",
       "      <td>8002267703</td>\n",
       "      <td>夏普</td>\n",
       "      <td>14999.0</td>\n",
       "      <td>1</td>\n",
       "      <td>主站</td>\n",
       "      <td>合并支付</td>\n",
       "      <td>1390109546</td>\n",
       "      <td>西安市</td>\n",
       "      <td>0</td>\n",
       "    </tr>\n",
       "    <tr>\n",
       "      <th>76918</th>\n",
       "      <td>4269390206</td>\n",
       "      <td>2013-09-21</td>\n",
       "      <td>02:11:10</td>\n",
       "      <td>电视冰箱洗衣机空调</td>\n",
       "      <td>GO</td>\n",
       "      <td>1000324052</td>\n",
       "      <td>夏普</td>\n",
       "      <td>3888.0</td>\n",
       "      <td>1</td>\n",
       "      <td>主站</td>\n",
       "      <td>合并支付</td>\n",
       "      <td>1390109546</td>\n",
       "      <td>西安市</td>\n",
       "      <td>0</td>\n",
       "    </tr>\n",
       "    <tr>\n",
       "      <th>76919</th>\n",
       "      <td>4269390206</td>\n",
       "      <td>2013-01-23</td>\n",
       "      <td>02:11:10</td>\n",
       "      <td>家居日用</td>\n",
       "      <td>GO</td>\n",
       "      <td>1000174960</td>\n",
       "      <td>伟经</td>\n",
       "      <td>275.0</td>\n",
       "      <td>1</td>\n",
       "      <td>主站</td>\n",
       "      <td>合并支付</td>\n",
       "      <td>1390109546</td>\n",
       "      <td>西安市</td>\n",
       "      <td>0</td>\n",
       "    </tr>\n",
       "    <tr>\n",
       "      <th>76920</th>\n",
       "      <td>4269390206</td>\n",
       "      <td>2013-11-12</td>\n",
       "      <td>02:11:10</td>\n",
       "      <td>电脑办公打印文仪</td>\n",
       "      <td>GO</td>\n",
       "      <td>1000315933</td>\n",
       "      <td>中亿</td>\n",
       "      <td>738.0</td>\n",
       "      <td>1</td>\n",
       "      <td>主站</td>\n",
       "      <td>合并支付</td>\n",
       "      <td>1390109546</td>\n",
       "      <td>西安市</td>\n",
       "      <td>0</td>\n",
       "    </tr>\n",
       "    <tr>\n",
       "      <th>76921</th>\n",
       "      <td>4269390206</td>\n",
       "      <td>2013-05-03</td>\n",
       "      <td>02:11:10</td>\n",
       "      <td>生活电器厨卫电器</td>\n",
       "      <td>GO</td>\n",
       "      <td>1000320932</td>\n",
       "      <td>凯伍德</td>\n",
       "      <td>1690.0</td>\n",
       "      <td>1</td>\n",
       "      <td>主站</td>\n",
       "      <td>合并支付</td>\n",
       "      <td>1390109546</td>\n",
       "      <td>西安市</td>\n",
       "      <td>0</td>\n",
       "    </tr>\n",
       "    <tr>\n",
       "      <th>76922</th>\n",
       "      <td>4269390206</td>\n",
       "      <td>2013-05-02</td>\n",
       "      <td>02:11:10</td>\n",
       "      <td>家居日用</td>\n",
       "      <td>GO</td>\n",
       "      <td>1000336076</td>\n",
       "      <td>康宁</td>\n",
       "      <td>439.0</td>\n",
       "      <td>1</td>\n",
       "      <td>主站</td>\n",
       "      <td>合并支付</td>\n",
       "      <td>1390109546</td>\n",
       "      <td>西安市</td>\n",
       "      <td>0</td>\n",
       "    </tr>\n",
       "    <tr>\n",
       "      <th>76923</th>\n",
       "      <td>4269390206</td>\n",
       "      <td>2013-12-19</td>\n",
       "      <td>02:11:10</td>\n",
       "      <td>家居日用</td>\n",
       "      <td>GO</td>\n",
       "      <td>1000192284</td>\n",
       "      <td>国研联合</td>\n",
       "      <td>158.0</td>\n",
       "      <td>1</td>\n",
       "      <td>主站</td>\n",
       "      <td>合并支付</td>\n",
       "      <td>1390109546</td>\n",
       "      <td>西安市</td>\n",
       "      <td>0</td>\n",
       "    </tr>\n",
       "    <tr>\n",
       "      <th>76924</th>\n",
       "      <td>4269390206</td>\n",
       "      <td>2013-10-28</td>\n",
       "      <td>02:11:10</td>\n",
       "      <td>家居日用</td>\n",
       "      <td>GO</td>\n",
       "      <td>1000104751</td>\n",
       "      <td>苏泊尔</td>\n",
       "      <td>459.0</td>\n",
       "      <td>1</td>\n",
       "      <td>主站</td>\n",
       "      <td>合并支付</td>\n",
       "      <td>1390109546</td>\n",
       "      <td>西安市</td>\n",
       "      <td>0</td>\n",
       "    </tr>\n",
       "    <tr>\n",
       "      <th>76925</th>\n",
       "      <td>4269390206</td>\n",
       "      <td>2013-12-05</td>\n",
       "      <td>02:11:10</td>\n",
       "      <td>家居日用</td>\n",
       "      <td>GO</td>\n",
       "      <td>1000104746</td>\n",
       "      <td>苏泊尔</td>\n",
       "      <td>229.0</td>\n",
       "      <td>1</td>\n",
       "      <td>主站</td>\n",
       "      <td>合并支付</td>\n",
       "      <td>1390109546</td>\n",
       "      <td>西安市</td>\n",
       "      <td>0</td>\n",
       "    </tr>\n",
       "  </tbody>\n",
       "</table>\n",
       "</div>"
      ],
      "text/plain": [
       "         order_id  order_date order_time        cat attribution      pro_id  \\\n",
       "76916  4269390206  2013-09-26   02:11:10  电视冰箱洗衣机空调          GO  1000324051   \n",
       "76917  4269390206  2013-03-09   02:11:10  电视冰箱洗衣机空调         POP  8002267703   \n",
       "76918  4269390206  2013-09-21   02:11:10  电视冰箱洗衣机空调          GO  1000324052   \n",
       "76919  4269390206  2013-01-23   02:11:10       家居日用          GO  1000174960   \n",
       "76920  4269390206  2013-11-12   02:11:10   电脑办公打印文仪          GO  1000315933   \n",
       "76921  4269390206  2013-05-03   02:11:10   生活电器厨卫电器          GO  1000320932   \n",
       "76922  4269390206  2013-05-02   02:11:10       家居日用          GO  1000336076   \n",
       "76923  4269390206  2013-12-19   02:11:10       家居日用          GO  1000192284   \n",
       "76924  4269390206  2013-10-28   02:11:10       家居日用          GO  1000104751   \n",
       "76925  4269390206  2013-12-05   02:11:10       家居日用          GO  1000104746   \n",
       "\n",
       "      pro_brand  total_money  total_quantity order_source pay_type  \\\n",
       "76916        夏普       2588.0               1           主站     合并支付   \n",
       "76917        夏普      14999.0               1           主站     合并支付   \n",
       "76918        夏普       3888.0               1           主站     合并支付   \n",
       "76919        伟经        275.0               1           主站     合并支付   \n",
       "76920        中亿        738.0               1           主站     合并支付   \n",
       "76921       凯伍德       1690.0               1           主站     合并支付   \n",
       "76922        康宁        439.0               1           主站     合并支付   \n",
       "76923      国研联合        158.0               1           主站     合并支付   \n",
       "76924       苏泊尔        459.0               1           主站     合并支付   \n",
       "76925       苏泊尔        229.0               1           主站     合并支付   \n",
       "\n",
       "          user_id city  abnormal_label  \n",
       "76916  1390109546  西安市               0  \n",
       "76917  1390109546  西安市               0  \n",
       "76918  1390109546  西安市               0  \n",
       "76919  1390109546  西安市               0  \n",
       "76920  1390109546  西安市               0  \n",
       "76921  1390109546  西安市               0  \n",
       "76922  1390109546  西安市               0  \n",
       "76923  1390109546  西安市               0  \n",
       "76924  1390109546  西安市               0  \n",
       "76925  1390109546  西安市               0  "
      ]
     },
     "execution_count": 55,
     "metadata": {},
     "output_type": "execute_result"
    }
   ],
   "source": [
    "data[data[\"order_id\"] == 4269390206].head(10)"
   ]
  },
  {
   "cell_type": "code",
   "execution_count": 57,
   "metadata": {},
   "outputs": [
    {
     "data": {
      "text/plain": [
       "Int64Index([4279118253, 4269390206, 4271884108, 4275856215, 4265415474,\n",
       "            4279551124, 4283874398, 4283873538, 4283874524, 4283339603,\n",
       "            ...\n",
       "            4146673872, 4146673733, 4146673535, 4146672339, 4146668187,\n",
       "            4146667708, 4146667654, 4146661886, 4146657953, 4285770056],\n",
       "           dtype='int64', length=114207)"
      ]
     },
     "execution_count": 57,
     "metadata": {},
     "output_type": "execute_result"
    }
   ],
   "source": [
    "DupOrder = data[\"order_id\"].value_counts().index\n",
    "DupOrder"
   ]
  },
  {
   "cell_type": "code",
   "execution_count": 58,
   "metadata": {},
   "outputs": [
    {
     "name": "stdout",
     "output_type": "stream",
     "text": [
      "4279118253 : 0\n",
      "4269390206 : 0\n",
      "4271884108 : 20\n",
      "4275856215 : 20\n",
      "4265415474 : 0\n",
      "4279551124 : 0\n",
      "4283874398 : 0\n",
      "4283873538 : 0\n",
      "4283874524 : 0\n",
      "4283339603 : 0\n",
      "4283874688 : 0\n",
      "4283874209 : 0\n",
      "4283873946 : 0\n",
      "4283339890 : 0\n",
      "4283339774 : 0\n",
      "4283336310 : 0\n",
      "4276167340 : 0\n",
      "4282842130 : 0\n",
      "4282842151 : 0\n",
      "4282842230 : 0\n",
      "4193043860 : 16\n",
      "4282512627 : 0\n",
      "4282842193 : 0\n",
      "4272509367 : 0\n",
      "4282513806 : 0\n",
      "4282513764 : 0\n",
      "4282561933 : 0\n",
      "4285070202 : 0\n",
      "4280659906 : 0\n",
      "4285070300 : 0\n"
     ]
    }
   ],
   "source": [
    "for i in DupOrder[:30]:\n",
    "    AbOrder = (data.loc[data[\"order_id\"] == i,\"abnormal_label\"]==1).sum()\n",
    "    print(i,\":\",AbOrder)"
   ]
  },
  {
   "cell_type": "code",
   "execution_count": 60,
   "metadata": {},
   "outputs": [
    {
     "data": {
      "text/html": [
       "<div>\n",
       "<style scoped>\n",
       "    .dataframe tbody tr th:only-of-type {\n",
       "        vertical-align: middle;\n",
       "    }\n",
       "\n",
       "    .dataframe tbody tr th {\n",
       "        vertical-align: top;\n",
       "    }\n",
       "\n",
       "    .dataframe thead th {\n",
       "        text-align: right;\n",
       "    }\n",
       "</style>\n",
       "<table border=\"1\" class=\"dataframe\">\n",
       "  <thead>\n",
       "    <tr style=\"text-align: right;\">\n",
       "      <th></th>\n",
       "      <th>order_id</th>\n",
       "      <th>order_date</th>\n",
       "      <th>order_time</th>\n",
       "      <th>cat</th>\n",
       "      <th>attribution</th>\n",
       "      <th>pro_id</th>\n",
       "      <th>pro_brand</th>\n",
       "      <th>total_money</th>\n",
       "      <th>total_quantity</th>\n",
       "      <th>order_source</th>\n",
       "      <th>pay_type</th>\n",
       "      <th>user_id</th>\n",
       "      <th>city</th>\n",
       "      <th>abnormal_label</th>\n",
       "    </tr>\n",
       "  </thead>\n",
       "  <tbody>\n",
       "    <tr>\n",
       "      <th>3980</th>\n",
       "      <td>4271884108</td>\n",
       "      <td>2013-04-30</td>\n",
       "      <td>09:41:31</td>\n",
       "      <td>服饰鞋帽</td>\n",
       "      <td>POP</td>\n",
       "      <td>8002089657</td>\n",
       "      <td>PPZ</td>\n",
       "      <td>178.0</td>\n",
       "      <td>2</td>\n",
       "      <td>手机站点</td>\n",
       "      <td>合并支付</td>\n",
       "      <td>gome_taozx</td>\n",
       "      <td>广州市</td>\n",
       "      <td>1</td>\n",
       "    </tr>\n",
       "    <tr>\n",
       "      <th>3981</th>\n",
       "      <td>4271884108</td>\n",
       "      <td>2013-10-09</td>\n",
       "      <td>09:41:31</td>\n",
       "      <td>服饰鞋帽</td>\n",
       "      <td>POP</td>\n",
       "      <td>8000345913</td>\n",
       "      <td>漫路</td>\n",
       "      <td>176.0</td>\n",
       "      <td>2</td>\n",
       "      <td>手机站点</td>\n",
       "      <td>合并支付</td>\n",
       "      <td>gome_taozx</td>\n",
       "      <td>广州市</td>\n",
       "      <td>1</td>\n",
       "    </tr>\n",
       "    <tr>\n",
       "      <th>15817</th>\n",
       "      <td>4271884108</td>\n",
       "      <td>2013-09-06</td>\n",
       "      <td>09:41:31</td>\n",
       "      <td>服饰鞋帽</td>\n",
       "      <td>POP</td>\n",
       "      <td>8002287340</td>\n",
       "      <td>jstfe</td>\n",
       "      <td>49.0</td>\n",
       "      <td>1</td>\n",
       "      <td>手机站点</td>\n",
       "      <td>合并支付</td>\n",
       "      <td>gome_taozx</td>\n",
       "      <td>广州市</td>\n",
       "      <td>1</td>\n",
       "    </tr>\n",
       "    <tr>\n",
       "      <th>15818</th>\n",
       "      <td>4271884108</td>\n",
       "      <td>2013-09-30</td>\n",
       "      <td>09:41:31</td>\n",
       "      <td>服饰鞋帽</td>\n",
       "      <td>POP</td>\n",
       "      <td>8002287341</td>\n",
       "      <td>jstfe</td>\n",
       "      <td>49.0</td>\n",
       "      <td>1</td>\n",
       "      <td>手机站点</td>\n",
       "      <td>合并支付</td>\n",
       "      <td>gome_taozx</td>\n",
       "      <td>广州市</td>\n",
       "      <td>1</td>\n",
       "    </tr>\n",
       "    <tr>\n",
       "      <th>15819</th>\n",
       "      <td>4271884108</td>\n",
       "      <td>2013-09-16</td>\n",
       "      <td>09:41:31</td>\n",
       "      <td>服饰鞋帽</td>\n",
       "      <td>POP</td>\n",
       "      <td>8002206973</td>\n",
       "      <td>梵利玛</td>\n",
       "      <td>109.0</td>\n",
       "      <td>1</td>\n",
       "      <td>手机站点</td>\n",
       "      <td>合并支付</td>\n",
       "      <td>gome_taozx</td>\n",
       "      <td>广州市</td>\n",
       "      <td>1</td>\n",
       "    </tr>\n",
       "    <tr>\n",
       "      <th>15820</th>\n",
       "      <td>4271884108</td>\n",
       "      <td>2013-07-27</td>\n",
       "      <td>09:41:31</td>\n",
       "      <td>服饰鞋帽</td>\n",
       "      <td>POP</td>\n",
       "      <td>8002206218</td>\n",
       "      <td>唐狮</td>\n",
       "      <td>199.0</td>\n",
       "      <td>1</td>\n",
       "      <td>手机站点</td>\n",
       "      <td>合并支付</td>\n",
       "      <td>gome_taozx</td>\n",
       "      <td>广州市</td>\n",
       "      <td>1</td>\n",
       "    </tr>\n",
       "    <tr>\n",
       "      <th>15821</th>\n",
       "      <td>4271884108</td>\n",
       "      <td>2013-01-28</td>\n",
       "      <td>09:41:31</td>\n",
       "      <td>服饰鞋帽</td>\n",
       "      <td>POP</td>\n",
       "      <td>8002094791</td>\n",
       "      <td>SUCK-II</td>\n",
       "      <td>139.0</td>\n",
       "      <td>1</td>\n",
       "      <td>手机站点</td>\n",
       "      <td>合并支付</td>\n",
       "      <td>gome_taozx</td>\n",
       "      <td>广州市</td>\n",
       "      <td>1</td>\n",
       "    </tr>\n",
       "    <tr>\n",
       "      <th>15822</th>\n",
       "      <td>4271884108</td>\n",
       "      <td>2013-03-30</td>\n",
       "      <td>09:41:31</td>\n",
       "      <td>服饰鞋帽</td>\n",
       "      <td>POP</td>\n",
       "      <td>8002093564</td>\n",
       "      <td>占姆士</td>\n",
       "      <td>129.0</td>\n",
       "      <td>1</td>\n",
       "      <td>手机站点</td>\n",
       "      <td>合并支付</td>\n",
       "      <td>gome_taozx</td>\n",
       "      <td>广州市</td>\n",
       "      <td>1</td>\n",
       "    </tr>\n",
       "    <tr>\n",
       "      <th>15823</th>\n",
       "      <td>4271884108</td>\n",
       "      <td>2013-12-10</td>\n",
       "      <td>09:41:31</td>\n",
       "      <td>服饰鞋帽</td>\n",
       "      <td>POP</td>\n",
       "      <td>8002161945</td>\n",
       "      <td>占姆士</td>\n",
       "      <td>119.0</td>\n",
       "      <td>1</td>\n",
       "      <td>手机站点</td>\n",
       "      <td>合并支付</td>\n",
       "      <td>gome_taozx</td>\n",
       "      <td>广州市</td>\n",
       "      <td>1</td>\n",
       "    </tr>\n",
       "    <tr>\n",
       "      <th>15824</th>\n",
       "      <td>4271884108</td>\n",
       "      <td>2013-11-30</td>\n",
       "      <td>09:41:31</td>\n",
       "      <td>服饰鞋帽</td>\n",
       "      <td>POP</td>\n",
       "      <td>8002093298</td>\n",
       "      <td>骑士保罗</td>\n",
       "      <td>79.0</td>\n",
       "      <td>1</td>\n",
       "      <td>手机站点</td>\n",
       "      <td>合并支付</td>\n",
       "      <td>gome_taozx</td>\n",
       "      <td>广州市</td>\n",
       "      <td>1</td>\n",
       "    </tr>\n",
       "    <tr>\n",
       "      <th>15825</th>\n",
       "      <td>4271884108</td>\n",
       "      <td>2013-02-08</td>\n",
       "      <td>09:41:31</td>\n",
       "      <td>服饰鞋帽</td>\n",
       "      <td>POP</td>\n",
       "      <td>8002093300</td>\n",
       "      <td>骑士保罗</td>\n",
       "      <td>79.0</td>\n",
       "      <td>1</td>\n",
       "      <td>手机站点</td>\n",
       "      <td>合并支付</td>\n",
       "      <td>gome_taozx</td>\n",
       "      <td>广州市</td>\n",
       "      <td>1</td>\n",
       "    </tr>\n",
       "    <tr>\n",
       "      <th>15826</th>\n",
       "      <td>4271884108</td>\n",
       "      <td>2013-01-26</td>\n",
       "      <td>09:41:31</td>\n",
       "      <td>服饰鞋帽</td>\n",
       "      <td>POP</td>\n",
       "      <td>8002089653</td>\n",
       "      <td>PPZ</td>\n",
       "      <td>89.0</td>\n",
       "      <td>1</td>\n",
       "      <td>手机站点</td>\n",
       "      <td>合并支付</td>\n",
       "      <td>gome_taozx</td>\n",
       "      <td>广州市</td>\n",
       "      <td>1</td>\n",
       "    </tr>\n",
       "    <tr>\n",
       "      <th>15827</th>\n",
       "      <td>4271884108</td>\n",
       "      <td>2013-10-18</td>\n",
       "      <td>09:41:31</td>\n",
       "      <td>服饰鞋帽</td>\n",
       "      <td>POP</td>\n",
       "      <td>8002089673</td>\n",
       "      <td>PPZ</td>\n",
       "      <td>99.0</td>\n",
       "      <td>1</td>\n",
       "      <td>手机站点</td>\n",
       "      <td>合并支付</td>\n",
       "      <td>gome_taozx</td>\n",
       "      <td>广州市</td>\n",
       "      <td>1</td>\n",
       "    </tr>\n",
       "    <tr>\n",
       "      <th>15828</th>\n",
       "      <td>4271884108</td>\n",
       "      <td>2013-06-28</td>\n",
       "      <td>09:41:31</td>\n",
       "      <td>服饰鞋帽</td>\n",
       "      <td>POP</td>\n",
       "      <td>8000321504</td>\n",
       "      <td>漫路</td>\n",
       "      <td>88.0</td>\n",
       "      <td>1</td>\n",
       "      <td>手机站点</td>\n",
       "      <td>合并支付</td>\n",
       "      <td>gome_taozx</td>\n",
       "      <td>广州市</td>\n",
       "      <td>1</td>\n",
       "    </tr>\n",
       "    <tr>\n",
       "      <th>15829</th>\n",
       "      <td>4271884108</td>\n",
       "      <td>2013-07-10</td>\n",
       "      <td>09:41:31</td>\n",
       "      <td>服饰鞋帽</td>\n",
       "      <td>POP</td>\n",
       "      <td>8000347050</td>\n",
       "      <td>漫路</td>\n",
       "      <td>99.0</td>\n",
       "      <td>1</td>\n",
       "      <td>手机站点</td>\n",
       "      <td>合并支付</td>\n",
       "      <td>gome_taozx</td>\n",
       "      <td>广州市</td>\n",
       "      <td>1</td>\n",
       "    </tr>\n",
       "    <tr>\n",
       "      <th>15830</th>\n",
       "      <td>4271884108</td>\n",
       "      <td>2013-08-17</td>\n",
       "      <td>09:41:31</td>\n",
       "      <td>服饰鞋帽</td>\n",
       "      <td>POP</td>\n",
       "      <td>8002293064</td>\n",
       "      <td>英国保罗</td>\n",
       "      <td>128.0</td>\n",
       "      <td>1</td>\n",
       "      <td>手机站点</td>\n",
       "      <td>合并支付</td>\n",
       "      <td>gome_taozx</td>\n",
       "      <td>广州市</td>\n",
       "      <td>1</td>\n",
       "    </tr>\n",
       "    <tr>\n",
       "      <th>15831</th>\n",
       "      <td>4271884108</td>\n",
       "      <td>2013-01-19</td>\n",
       "      <td>09:41:31</td>\n",
       "      <td>服饰鞋帽</td>\n",
       "      <td>POP</td>\n",
       "      <td>8002287099</td>\n",
       "      <td>壹恺</td>\n",
       "      <td>96.0</td>\n",
       "      <td>1</td>\n",
       "      <td>手机站点</td>\n",
       "      <td>合并支付</td>\n",
       "      <td>gome_taozx</td>\n",
       "      <td>广州市</td>\n",
       "      <td>1</td>\n",
       "    </tr>\n",
       "    <tr>\n",
       "      <th>15832</th>\n",
       "      <td>4271884108</td>\n",
       "      <td>2013-06-11</td>\n",
       "      <td>09:41:31</td>\n",
       "      <td>服饰鞋帽</td>\n",
       "      <td>POP</td>\n",
       "      <td>8002179377</td>\n",
       "      <td>彬伊奴</td>\n",
       "      <td>59.0</td>\n",
       "      <td>1</td>\n",
       "      <td>手机站点</td>\n",
       "      <td>合并支付</td>\n",
       "      <td>gome_taozx</td>\n",
       "      <td>广州市</td>\n",
       "      <td>1</td>\n",
       "    </tr>\n",
       "    <tr>\n",
       "      <th>15833</th>\n",
       "      <td>4271884108</td>\n",
       "      <td>2013-05-29</td>\n",
       "      <td>09:41:31</td>\n",
       "      <td>服饰鞋帽</td>\n",
       "      <td>POP</td>\n",
       "      <td>8000323444</td>\n",
       "      <td>迈克菲恩</td>\n",
       "      <td>148.0</td>\n",
       "      <td>1</td>\n",
       "      <td>手机站点</td>\n",
       "      <td>合并支付</td>\n",
       "      <td>gome_taozx</td>\n",
       "      <td>广州市</td>\n",
       "      <td>1</td>\n",
       "    </tr>\n",
       "    <tr>\n",
       "      <th>15834</th>\n",
       "      <td>4271884108</td>\n",
       "      <td>2013-12-18</td>\n",
       "      <td>09:41:31</td>\n",
       "      <td>服饰鞋帽</td>\n",
       "      <td>POP</td>\n",
       "      <td>8002173067</td>\n",
       "      <td>红豆</td>\n",
       "      <td>239.0</td>\n",
       "      <td>1</td>\n",
       "      <td>手机站点</td>\n",
       "      <td>合并支付</td>\n",
       "      <td>gome_taozx</td>\n",
       "      <td>广州市</td>\n",
       "      <td>1</td>\n",
       "    </tr>\n",
       "  </tbody>\n",
       "</table>\n",
       "</div>"
      ],
      "text/plain": [
       "         order_id  order_date order_time   cat attribution      pro_id  \\\n",
       "3980   4271884108  2013-04-30   09:41:31  服饰鞋帽         POP  8002089657   \n",
       "3981   4271884108  2013-10-09   09:41:31  服饰鞋帽         POP  8000345913   \n",
       "15817  4271884108  2013-09-06   09:41:31  服饰鞋帽         POP  8002287340   \n",
       "15818  4271884108  2013-09-30   09:41:31  服饰鞋帽         POP  8002287341   \n",
       "15819  4271884108  2013-09-16   09:41:31  服饰鞋帽         POP  8002206973   \n",
       "15820  4271884108  2013-07-27   09:41:31  服饰鞋帽         POP  8002206218   \n",
       "15821  4271884108  2013-01-28   09:41:31  服饰鞋帽         POP  8002094791   \n",
       "15822  4271884108  2013-03-30   09:41:31  服饰鞋帽         POP  8002093564   \n",
       "15823  4271884108  2013-12-10   09:41:31  服饰鞋帽         POP  8002161945   \n",
       "15824  4271884108  2013-11-30   09:41:31  服饰鞋帽         POP  8002093298   \n",
       "15825  4271884108  2013-02-08   09:41:31  服饰鞋帽         POP  8002093300   \n",
       "15826  4271884108  2013-01-26   09:41:31  服饰鞋帽         POP  8002089653   \n",
       "15827  4271884108  2013-10-18   09:41:31  服饰鞋帽         POP  8002089673   \n",
       "15828  4271884108  2013-06-28   09:41:31  服饰鞋帽         POP  8000321504   \n",
       "15829  4271884108  2013-07-10   09:41:31  服饰鞋帽         POP  8000347050   \n",
       "15830  4271884108  2013-08-17   09:41:31  服饰鞋帽         POP  8002293064   \n",
       "15831  4271884108  2013-01-19   09:41:31  服饰鞋帽         POP  8002287099   \n",
       "15832  4271884108  2013-06-11   09:41:31  服饰鞋帽         POP  8002179377   \n",
       "15833  4271884108  2013-05-29   09:41:31  服饰鞋帽         POP  8000323444   \n",
       "15834  4271884108  2013-12-18   09:41:31  服饰鞋帽         POP  8002173067   \n",
       "\n",
       "      pro_brand  total_money  total_quantity order_source pay_type  \\\n",
       "3980        PPZ        178.0               2         手机站点     合并支付   \n",
       "3981         漫路        176.0               2         手机站点     合并支付   \n",
       "15817     jstfe         49.0               1         手机站点     合并支付   \n",
       "15818     jstfe         49.0               1         手机站点     合并支付   \n",
       "15819       梵利玛        109.0               1         手机站点     合并支付   \n",
       "15820        唐狮        199.0               1         手机站点     合并支付   \n",
       "15821   SUCK-II        139.0               1         手机站点     合并支付   \n",
       "15822       占姆士        129.0               1         手机站点     合并支付   \n",
       "15823       占姆士        119.0               1         手机站点     合并支付   \n",
       "15824      骑士保罗         79.0               1         手机站点     合并支付   \n",
       "15825      骑士保罗         79.0               1         手机站点     合并支付   \n",
       "15826       PPZ         89.0               1         手机站点     合并支付   \n",
       "15827       PPZ         99.0               1         手机站点     合并支付   \n",
       "15828        漫路         88.0               1         手机站点     合并支付   \n",
       "15829        漫路         99.0               1         手机站点     合并支付   \n",
       "15830      英国保罗        128.0               1         手机站点     合并支付   \n",
       "15831        壹恺         96.0               1         手机站点     合并支付   \n",
       "15832       彬伊奴         59.0               1         手机站点     合并支付   \n",
       "15833      迈克菲恩        148.0               1         手机站点     合并支付   \n",
       "15834        红豆        239.0               1         手机站点     合并支付   \n",
       "\n",
       "          user_id city  abnormal_label  \n",
       "3980   gome_taozx  广州市               1  \n",
       "3981   gome_taozx  广州市               1  \n",
       "15817  gome_taozx  广州市               1  \n",
       "15818  gome_taozx  广州市               1  \n",
       "15819  gome_taozx  广州市               1  \n",
       "15820  gome_taozx  广州市               1  \n",
       "15821  gome_taozx  广州市               1  \n",
       "15822  gome_taozx  广州市               1  \n",
       "15823  gome_taozx  广州市               1  \n",
       "15824  gome_taozx  广州市               1  \n",
       "15825  gome_taozx  广州市               1  \n",
       "15826  gome_taozx  广州市               1  \n",
       "15827  gome_taozx  广州市               1  \n",
       "15828  gome_taozx  广州市               1  \n",
       "15829  gome_taozx  广州市               1  \n",
       "15830  gome_taozx  广州市               1  \n",
       "15831  gome_taozx  广州市               1  \n",
       "15832  gome_taozx  广州市               1  \n",
       "15833  gome_taozx  广州市               1  \n",
       "15834  gome_taozx  广州市               1  "
      ]
     },
     "execution_count": 60,
     "metadata": {},
     "output_type": "execute_result"
    }
   ],
   "source": [
    "data[data[\"order_id\"] == 4271884108]"
   ]
  },
  {
   "cell_type": "code",
   "execution_count": 61,
   "metadata": {},
   "outputs": [
    {
     "data": {
      "text/plain": [
       "0"
      ]
     },
     "execution_count": 61,
     "metadata": {},
     "output_type": "execute_result"
    }
   ],
   "source": [
    "#Do they have different pro_id on the same order_id?\n",
    "data.loc[data[\"order_id\"] == 4271884108,\"pro_id\"].duplicated().sum()"
   ]
  },
  {
   "cell_type": "code",
   "execution_count": 63,
   "metadata": {},
   "outputs": [
    {
     "data": {
      "text/html": [
       "<div>\n",
       "<style scoped>\n",
       "    .dataframe tbody tr th:only-of-type {\n",
       "        vertical-align: middle;\n",
       "    }\n",
       "\n",
       "    .dataframe tbody tr th {\n",
       "        vertical-align: top;\n",
       "    }\n",
       "\n",
       "    .dataframe thead th {\n",
       "        text-align: right;\n",
       "    }\n",
       "</style>\n",
       "<table border=\"1\" class=\"dataframe\">\n",
       "  <thead>\n",
       "    <tr style=\"text-align: right;\">\n",
       "      <th></th>\n",
       "      <th>order_id</th>\n",
       "      <th>order_date</th>\n",
       "      <th>order_time</th>\n",
       "      <th>cat</th>\n",
       "      <th>attribution</th>\n",
       "      <th>pro_id</th>\n",
       "      <th>pro_brand</th>\n",
       "      <th>total_money</th>\n",
       "      <th>total_quantity</th>\n",
       "      <th>order_source</th>\n",
       "      <th>pay_type</th>\n",
       "      <th>user_id</th>\n",
       "      <th>city</th>\n",
       "      <th>abnormal_label</th>\n",
       "    </tr>\n",
       "  </thead>\n",
       "  <tbody>\n",
       "    <tr>\n",
       "      <th>1118</th>\n",
       "      <td>4193043860</td>\n",
       "      <td>2013-06-23</td>\n",
       "      <td>22:50:54</td>\n",
       "      <td>生活电器厨卫电器</td>\n",
       "      <td>POP</td>\n",
       "      <td>8000325989</td>\n",
       "      <td>飞利浦</td>\n",
       "      <td>690.0</td>\n",
       "      <td>5</td>\n",
       "      <td>主站</td>\n",
       "      <td>合并支付</td>\n",
       "      <td>ye519888</td>\n",
       "      <td>惠州市</td>\n",
       "      <td>1</td>\n",
       "    </tr>\n",
       "    <tr>\n",
       "      <th>3794</th>\n",
       "      <td>4193043860</td>\n",
       "      <td>2013-07-19</td>\n",
       "      <td>22:50:54</td>\n",
       "      <td>生活电器厨卫电器</td>\n",
       "      <td>GO</td>\n",
       "      <td>1000365248</td>\n",
       "      <td>飞利浦</td>\n",
       "      <td>334.0</td>\n",
       "      <td>2</td>\n",
       "      <td>主站</td>\n",
       "      <td>合并支付</td>\n",
       "      <td>ye519888</td>\n",
       "      <td>惠州市</td>\n",
       "      <td>1</td>\n",
       "    </tr>\n",
       "    <tr>\n",
       "      <th>11939</th>\n",
       "      <td>4193043860</td>\n",
       "      <td>2013-01-05</td>\n",
       "      <td>22:50:54</td>\n",
       "      <td>手机摄影数码</td>\n",
       "      <td>GO</td>\n",
       "      <td>1000366925</td>\n",
       "      <td>华为</td>\n",
       "      <td>2288.0</td>\n",
       "      <td>1</td>\n",
       "      <td>主站</td>\n",
       "      <td>合并支付</td>\n",
       "      <td>ye519888</td>\n",
       "      <td>惠州市</td>\n",
       "      <td>1</td>\n",
       "    </tr>\n",
       "    <tr>\n",
       "      <th>11940</th>\n",
       "      <td>4193043860</td>\n",
       "      <td>2013-02-02</td>\n",
       "      <td>22:50:54</td>\n",
       "      <td>生活电器厨卫电器</td>\n",
       "      <td>GO</td>\n",
       "      <td>1000308290</td>\n",
       "      <td>奔腾</td>\n",
       "      <td>68.0</td>\n",
       "      <td>1</td>\n",
       "      <td>主站</td>\n",
       "      <td>合并支付</td>\n",
       "      <td>ye519888</td>\n",
       "      <td>惠州市</td>\n",
       "      <td>1</td>\n",
       "    </tr>\n",
       "    <tr>\n",
       "      <th>11941</th>\n",
       "      <td>4193043860</td>\n",
       "      <td>2013-08-27</td>\n",
       "      <td>22:50:54</td>\n",
       "      <td>生活电器厨卫电器</td>\n",
       "      <td>GO</td>\n",
       "      <td>1000310218</td>\n",
       "      <td>飞利浦</td>\n",
       "      <td>228.0</td>\n",
       "      <td>1</td>\n",
       "      <td>主站</td>\n",
       "      <td>合并支付</td>\n",
       "      <td>ye519888</td>\n",
       "      <td>惠州市</td>\n",
       "      <td>1</td>\n",
       "    </tr>\n",
       "    <tr>\n",
       "      <th>11942</th>\n",
       "      <td>4193043860</td>\n",
       "      <td>2013-11-02</td>\n",
       "      <td>22:50:54</td>\n",
       "      <td>生活电器厨卫电器</td>\n",
       "      <td>GO</td>\n",
       "      <td>1000338760</td>\n",
       "      <td>奔腾</td>\n",
       "      <td>99.0</td>\n",
       "      <td>1</td>\n",
       "      <td>主站</td>\n",
       "      <td>合并支付</td>\n",
       "      <td>ye519888</td>\n",
       "      <td>惠州市</td>\n",
       "      <td>1</td>\n",
       "    </tr>\n",
       "    <tr>\n",
       "      <th>11943</th>\n",
       "      <td>4193043860</td>\n",
       "      <td>2013-12-05</td>\n",
       "      <td>22:50:54</td>\n",
       "      <td>生活电器厨卫电器</td>\n",
       "      <td>GO</td>\n",
       "      <td>1000365247</td>\n",
       "      <td>飞利浦</td>\n",
       "      <td>129.0</td>\n",
       "      <td>1</td>\n",
       "      <td>主站</td>\n",
       "      <td>合并支付</td>\n",
       "      <td>ye519888</td>\n",
       "      <td>惠州市</td>\n",
       "      <td>1</td>\n",
       "    </tr>\n",
       "    <tr>\n",
       "      <th>11944</th>\n",
       "      <td>4193043860</td>\n",
       "      <td>2013-11-03</td>\n",
       "      <td>22:50:54</td>\n",
       "      <td>电脑办公打印文仪</td>\n",
       "      <td>GO</td>\n",
       "      <td>1000115820</td>\n",
       "      <td>摩天手</td>\n",
       "      <td>29.0</td>\n",
       "      <td>1</td>\n",
       "      <td>主站</td>\n",
       "      <td>合并支付</td>\n",
       "      <td>ye519888</td>\n",
       "      <td>惠州市</td>\n",
       "      <td>1</td>\n",
       "    </tr>\n",
       "    <tr>\n",
       "      <th>11945</th>\n",
       "      <td>4193043860</td>\n",
       "      <td>2013-08-07</td>\n",
       "      <td>22:50:54</td>\n",
       "      <td>箱包奢品</td>\n",
       "      <td>POP</td>\n",
       "      <td>8001244945</td>\n",
       "      <td>TEEMZONE</td>\n",
       "      <td>159.0</td>\n",
       "      <td>1</td>\n",
       "      <td>主站</td>\n",
       "      <td>合并支付</td>\n",
       "      <td>ye519888</td>\n",
       "      <td>惠州市</td>\n",
       "      <td>1</td>\n",
       "    </tr>\n",
       "    <tr>\n",
       "      <th>11946</th>\n",
       "      <td>4193043860</td>\n",
       "      <td>2013-01-10</td>\n",
       "      <td>22:50:54</td>\n",
       "      <td>服饰鞋帽</td>\n",
       "      <td>POP</td>\n",
       "      <td>8001649376</td>\n",
       "      <td>麦高</td>\n",
       "      <td>59.0</td>\n",
       "      <td>1</td>\n",
       "      <td>主站</td>\n",
       "      <td>合并支付</td>\n",
       "      <td>ye519888</td>\n",
       "      <td>惠州市</td>\n",
       "      <td>1</td>\n",
       "    </tr>\n",
       "    <tr>\n",
       "      <th>11947</th>\n",
       "      <td>4193043860</td>\n",
       "      <td>2013-09-01</td>\n",
       "      <td>22:50:54</td>\n",
       "      <td>服饰鞋帽</td>\n",
       "      <td>POP</td>\n",
       "      <td>8001531988</td>\n",
       "      <td>泰马</td>\n",
       "      <td>139.0</td>\n",
       "      <td>1</td>\n",
       "      <td>主站</td>\n",
       "      <td>合并支付</td>\n",
       "      <td>ye519888</td>\n",
       "      <td>惠州市</td>\n",
       "      <td>1</td>\n",
       "    </tr>\n",
       "    <tr>\n",
       "      <th>11948</th>\n",
       "      <td>4193043860</td>\n",
       "      <td>2013-09-30</td>\n",
       "      <td>22:50:54</td>\n",
       "      <td>服饰鞋帽</td>\n",
       "      <td>POP</td>\n",
       "      <td>8001340398</td>\n",
       "      <td>尚邦</td>\n",
       "      <td>108.0</td>\n",
       "      <td>1</td>\n",
       "      <td>主站</td>\n",
       "      <td>合并支付</td>\n",
       "      <td>ye519888</td>\n",
       "      <td>惠州市</td>\n",
       "      <td>1</td>\n",
       "    </tr>\n",
       "    <tr>\n",
       "      <th>11949</th>\n",
       "      <td>4193043860</td>\n",
       "      <td>2013-06-17</td>\n",
       "      <td>22:50:54</td>\n",
       "      <td>服饰鞋帽</td>\n",
       "      <td>POP</td>\n",
       "      <td>8002165522</td>\n",
       "      <td>紫门院</td>\n",
       "      <td>99.0</td>\n",
       "      <td>1</td>\n",
       "      <td>主站</td>\n",
       "      <td>合并支付</td>\n",
       "      <td>ye519888</td>\n",
       "      <td>惠州市</td>\n",
       "      <td>1</td>\n",
       "    </tr>\n",
       "    <tr>\n",
       "      <th>11950</th>\n",
       "      <td>4193043860</td>\n",
       "      <td>2013-10-29</td>\n",
       "      <td>22:50:54</td>\n",
       "      <td>生活电器厨卫电器</td>\n",
       "      <td>POP</td>\n",
       "      <td>8000298149</td>\n",
       "      <td>松下</td>\n",
       "      <td>149.0</td>\n",
       "      <td>1</td>\n",
       "      <td>主站</td>\n",
       "      <td>合并支付</td>\n",
       "      <td>ye519888</td>\n",
       "      <td>惠州市</td>\n",
       "      <td>1</td>\n",
       "    </tr>\n",
       "    <tr>\n",
       "      <th>11951</th>\n",
       "      <td>4193043860</td>\n",
       "      <td>2013-05-21</td>\n",
       "      <td>22:50:54</td>\n",
       "      <td>生活电器厨卫电器</td>\n",
       "      <td>POP</td>\n",
       "      <td>8001374845</td>\n",
       "      <td>飞利浦</td>\n",
       "      <td>239.0</td>\n",
       "      <td>1</td>\n",
       "      <td>主站</td>\n",
       "      <td>合并支付</td>\n",
       "      <td>ye519888</td>\n",
       "      <td>惠州市</td>\n",
       "      <td>1</td>\n",
       "    </tr>\n",
       "    <tr>\n",
       "      <th>11952</th>\n",
       "      <td>4193043860</td>\n",
       "      <td>2013-03-19</td>\n",
       "      <td>22:50:54</td>\n",
       "      <td>家纺寝居</td>\n",
       "      <td>POP</td>\n",
       "      <td>8002003646</td>\n",
       "      <td>凯诗风尚</td>\n",
       "      <td>99.0</td>\n",
       "      <td>1</td>\n",
       "      <td>主站</td>\n",
       "      <td>合并支付</td>\n",
       "      <td>ye519888</td>\n",
       "      <td>惠州市</td>\n",
       "      <td>1</td>\n",
       "    </tr>\n",
       "  </tbody>\n",
       "</table>\n",
       "</div>"
      ],
      "text/plain": [
       "         order_id  order_date order_time       cat attribution      pro_id  \\\n",
       "1118   4193043860  2013-06-23   22:50:54  生活电器厨卫电器         POP  8000325989   \n",
       "3794   4193043860  2013-07-19   22:50:54  生活电器厨卫电器          GO  1000365248   \n",
       "11939  4193043860  2013-01-05   22:50:54    手机摄影数码          GO  1000366925   \n",
       "11940  4193043860  2013-02-02   22:50:54  生活电器厨卫电器          GO  1000308290   \n",
       "11941  4193043860  2013-08-27   22:50:54  生活电器厨卫电器          GO  1000310218   \n",
       "11942  4193043860  2013-11-02   22:50:54  生活电器厨卫电器          GO  1000338760   \n",
       "11943  4193043860  2013-12-05   22:50:54  生活电器厨卫电器          GO  1000365247   \n",
       "11944  4193043860  2013-11-03   22:50:54  电脑办公打印文仪          GO  1000115820   \n",
       "11945  4193043860  2013-08-07   22:50:54      箱包奢品         POP  8001244945   \n",
       "11946  4193043860  2013-01-10   22:50:54      服饰鞋帽         POP  8001649376   \n",
       "11947  4193043860  2013-09-01   22:50:54      服饰鞋帽         POP  8001531988   \n",
       "11948  4193043860  2013-09-30   22:50:54      服饰鞋帽         POP  8001340398   \n",
       "11949  4193043860  2013-06-17   22:50:54      服饰鞋帽         POP  8002165522   \n",
       "11950  4193043860  2013-10-29   22:50:54  生活电器厨卫电器         POP  8000298149   \n",
       "11951  4193043860  2013-05-21   22:50:54  生活电器厨卫电器         POP  8001374845   \n",
       "11952  4193043860  2013-03-19   22:50:54      家纺寝居         POP  8002003646   \n",
       "\n",
       "      pro_brand  total_money  total_quantity order_source pay_type   user_id  \\\n",
       "1118        飞利浦        690.0               5           主站     合并支付  ye519888   \n",
       "3794        飞利浦        334.0               2           主站     合并支付  ye519888   \n",
       "11939        华为       2288.0               1           主站     合并支付  ye519888   \n",
       "11940        奔腾         68.0               1           主站     合并支付  ye519888   \n",
       "11941       飞利浦        228.0               1           主站     合并支付  ye519888   \n",
       "11942        奔腾         99.0               1           主站     合并支付  ye519888   \n",
       "11943       飞利浦        129.0               1           主站     合并支付  ye519888   \n",
       "11944       摩天手         29.0               1           主站     合并支付  ye519888   \n",
       "11945  TEEMZONE        159.0               1           主站     合并支付  ye519888   \n",
       "11946        麦高         59.0               1           主站     合并支付  ye519888   \n",
       "11947        泰马        139.0               1           主站     合并支付  ye519888   \n",
       "11948        尚邦        108.0               1           主站     合并支付  ye519888   \n",
       "11949       紫门院         99.0               1           主站     合并支付  ye519888   \n",
       "11950        松下        149.0               1           主站     合并支付  ye519888   \n",
       "11951       飞利浦        239.0               1           主站     合并支付  ye519888   \n",
       "11952      凯诗风尚         99.0               1           主站     合并支付  ye519888   \n",
       "\n",
       "      city  abnormal_label  \n",
       "1118   惠州市               1  \n",
       "3794   惠州市               1  \n",
       "11939  惠州市               1  \n",
       "11940  惠州市               1  \n",
       "11941  惠州市               1  \n",
       "11942  惠州市               1  \n",
       "11943  惠州市               1  \n",
       "11944  惠州市               1  \n",
       "11945  惠州市               1  \n",
       "11946  惠州市               1  \n",
       "11947  惠州市               1  \n",
       "11948  惠州市               1  \n",
       "11949  惠州市               1  \n",
       "11950  惠州市               1  \n",
       "11951  惠州市               1  \n",
       "11952  惠州市               1  "
      ]
     },
     "execution_count": 63,
     "metadata": {},
     "output_type": "execute_result"
    }
   ],
   "source": [
    "data[data[\"order_id\"] == 4193043860]"
   ]
  },
  {
   "cell_type": "code",
   "execution_count": 64,
   "metadata": {},
   "outputs": [
    {
     "data": {
      "text/plain": [
       "0"
      ]
     },
     "execution_count": 64,
     "metadata": {},
     "output_type": "execute_result"
    }
   ],
   "source": [
    "data.loc[data[\"order_id\"] == 4193043860,\"pro_id\"].duplicated().sum()"
   ]
  },
  {
   "cell_type": "markdown",
   "metadata": {},
   "source": [
    "\n",
    "- There are different 'order_date' with the same 'order_time' on the same order_id. Most of 'order_date' are forged.\n",
    "- For the anomaly samples, the 'pro_id' are all different on the same order_id. This indicates that although the 'order_time' of the anomaly sample is also forged, the sample itself is not forged."
   ]
  },
  {
   "cell_type": "code",
   "execution_count": 68,
   "metadata": {},
   "outputs": [
    {
     "data": {
      "text/plain": [
       "28284"
      ]
     },
     "execution_count": 68,
     "metadata": {},
     "output_type": "execute_result"
    }
   ],
   "source": [
    "(data[\"abnormal_label\"] == 1).sum()"
   ]
  },
  {
   "cell_type": "code",
   "execution_count": 69,
   "metadata": {},
   "outputs": [],
   "source": [
    "data2 = data.drop(columns=\"order_date\")"
   ]
  },
  {
   "cell_type": "code",
   "execution_count": 73,
   "metadata": {},
   "outputs": [
    {
     "data": {
      "text/plain": [
       "1471"
      ]
     },
     "execution_count": 73,
     "metadata": {},
     "output_type": "execute_result"
    }
   ],
   "source": [
    "data2.duplicated().sum() #the size of forged data is small"
   ]
  },
  {
   "cell_type": "code",
   "execution_count": 74,
   "metadata": {},
   "outputs": [],
   "source": [
    "#find the index of duplicated samples, and delete them"
   ]
  },
  {
   "cell_type": "code",
   "execution_count": 75,
   "metadata": {},
   "outputs": [
    {
     "name": "stderr",
     "output_type": "stream",
     "text": [
      "/var/folders/6r/w39cs75945v35_75hhr9_2nw0000gn/T/ipykernel_37409/3209526103.py:1: UserWarning: Boolean Series key will be reindexed to match DataFrame index.\n",
      "  data.drop(index=data[data2.duplicated()].index,inplace=True)\n"
     ]
    }
   ],
   "source": [
    "data.drop(index=data[data2.duplicated()].index,inplace=True)"
   ]
  },
  {
   "cell_type": "code",
   "execution_count": 76,
   "metadata": {},
   "outputs": [
    {
     "data": {
      "text/plain": [
       "4269390206    23\n",
       "4271884108    20\n",
       "4275856215    20\n",
       "4265415474    19\n",
       "4283874688    18\n",
       "              ..\n",
       "4144311846     1\n",
       "4283495517     1\n",
       "4283496150     1\n",
       "4144240046     1\n",
       "4285770056     1\n",
       "Name: order_id, Length: 114207, dtype: int64"
      ]
     },
     "execution_count": 76,
     "metadata": {},
     "output_type": "execute_result"
    }
   ],
   "source": [
    "data[\"order_id\"].value_counts()"
   ]
  },
  {
   "cell_type": "code",
   "execution_count": 79,
   "metadata": {},
   "outputs": [
    {
     "data": {
      "text/html": [
       "<div>\n",
       "<style scoped>\n",
       "    .dataframe tbody tr th:only-of-type {\n",
       "        vertical-align: middle;\n",
       "    }\n",
       "\n",
       "    .dataframe tbody tr th {\n",
       "        vertical-align: top;\n",
       "    }\n",
       "\n",
       "    .dataframe thead th {\n",
       "        text-align: right;\n",
       "    }\n",
       "</style>\n",
       "<table border=\"1\" class=\"dataframe\">\n",
       "  <thead>\n",
       "    <tr style=\"text-align: right;\">\n",
       "      <th></th>\n",
       "      <th>order_id</th>\n",
       "      <th>order_date</th>\n",
       "      <th>order_time</th>\n",
       "      <th>cat</th>\n",
       "      <th>attribution</th>\n",
       "      <th>pro_id</th>\n",
       "      <th>pro_brand</th>\n",
       "      <th>total_money</th>\n",
       "      <th>total_quantity</th>\n",
       "      <th>order_source</th>\n",
       "      <th>pay_type</th>\n",
       "      <th>user_id</th>\n",
       "      <th>city</th>\n",
       "      <th>abnormal_label</th>\n",
       "    </tr>\n",
       "  </thead>\n",
       "  <tbody>\n",
       "    <tr>\n",
       "      <th>76916</th>\n",
       "      <td>4269390206</td>\n",
       "      <td>2013-09-26</td>\n",
       "      <td>02:11:10</td>\n",
       "      <td>电视冰箱洗衣机空调</td>\n",
       "      <td>GO</td>\n",
       "      <td>1000324051</td>\n",
       "      <td>夏普</td>\n",
       "      <td>2588.0</td>\n",
       "      <td>1</td>\n",
       "      <td>主站</td>\n",
       "      <td>合并支付</td>\n",
       "      <td>1390109546</td>\n",
       "      <td>西安市</td>\n",
       "      <td>0</td>\n",
       "    </tr>\n",
       "    <tr>\n",
       "      <th>76917</th>\n",
       "      <td>4269390206</td>\n",
       "      <td>2013-03-09</td>\n",
       "      <td>02:11:10</td>\n",
       "      <td>电视冰箱洗衣机空调</td>\n",
       "      <td>POP</td>\n",
       "      <td>8002267703</td>\n",
       "      <td>夏普</td>\n",
       "      <td>14999.0</td>\n",
       "      <td>1</td>\n",
       "      <td>主站</td>\n",
       "      <td>合并支付</td>\n",
       "      <td>1390109546</td>\n",
       "      <td>西安市</td>\n",
       "      <td>0</td>\n",
       "    </tr>\n",
       "    <tr>\n",
       "      <th>76918</th>\n",
       "      <td>4269390206</td>\n",
       "      <td>2013-09-21</td>\n",
       "      <td>02:11:10</td>\n",
       "      <td>电视冰箱洗衣机空调</td>\n",
       "      <td>GO</td>\n",
       "      <td>1000324052</td>\n",
       "      <td>夏普</td>\n",
       "      <td>3888.0</td>\n",
       "      <td>1</td>\n",
       "      <td>主站</td>\n",
       "      <td>合并支付</td>\n",
       "      <td>1390109546</td>\n",
       "      <td>西安市</td>\n",
       "      <td>0</td>\n",
       "    </tr>\n",
       "    <tr>\n",
       "      <th>76919</th>\n",
       "      <td>4269390206</td>\n",
       "      <td>2013-01-23</td>\n",
       "      <td>02:11:10</td>\n",
       "      <td>家居日用</td>\n",
       "      <td>GO</td>\n",
       "      <td>1000174960</td>\n",
       "      <td>伟经</td>\n",
       "      <td>275.0</td>\n",
       "      <td>1</td>\n",
       "      <td>主站</td>\n",
       "      <td>合并支付</td>\n",
       "      <td>1390109546</td>\n",
       "      <td>西安市</td>\n",
       "      <td>0</td>\n",
       "    </tr>\n",
       "    <tr>\n",
       "      <th>76920</th>\n",
       "      <td>4269390206</td>\n",
       "      <td>2013-11-12</td>\n",
       "      <td>02:11:10</td>\n",
       "      <td>电脑办公打印文仪</td>\n",
       "      <td>GO</td>\n",
       "      <td>1000315933</td>\n",
       "      <td>中亿</td>\n",
       "      <td>738.0</td>\n",
       "      <td>1</td>\n",
       "      <td>主站</td>\n",
       "      <td>合并支付</td>\n",
       "      <td>1390109546</td>\n",
       "      <td>西安市</td>\n",
       "      <td>0</td>\n",
       "    </tr>\n",
       "  </tbody>\n",
       "</table>\n",
       "</div>"
      ],
      "text/plain": [
       "         order_id  order_date order_time        cat attribution      pro_id  \\\n",
       "76916  4269390206  2013-09-26   02:11:10  电视冰箱洗衣机空调          GO  1000324051   \n",
       "76917  4269390206  2013-03-09   02:11:10  电视冰箱洗衣机空调         POP  8002267703   \n",
       "76918  4269390206  2013-09-21   02:11:10  电视冰箱洗衣机空调          GO  1000324052   \n",
       "76919  4269390206  2013-01-23   02:11:10       家居日用          GO  1000174960   \n",
       "76920  4269390206  2013-11-12   02:11:10   电脑办公打印文仪          GO  1000315933   \n",
       "\n",
       "      pro_brand  total_money  total_quantity order_source pay_type  \\\n",
       "76916        夏普       2588.0               1           主站     合并支付   \n",
       "76917        夏普      14999.0               1           主站     合并支付   \n",
       "76918        夏普       3888.0               1           主站     合并支付   \n",
       "76919        伟经        275.0               1           主站     合并支付   \n",
       "76920        中亿        738.0               1           主站     合并支付   \n",
       "\n",
       "          user_id city  abnormal_label  \n",
       "76916  1390109546  西安市               0  \n",
       "76917  1390109546  西安市               0  \n",
       "76918  1390109546  西安市               0  \n",
       "76919  1390109546  西安市               0  \n",
       "76920  1390109546  西安市               0  "
      ]
     },
     "execution_count": 79,
     "metadata": {},
     "output_type": "execute_result"
    }
   ],
   "source": [
    "data[data[\"order_id\"] == 4269390206].head()"
   ]
  },
  {
   "cell_type": "code",
   "execution_count": 80,
   "metadata": {},
   "outputs": [],
   "source": [
    "data.index = range(data.shape[0])"
   ]
  },
  {
   "cell_type": "code",
   "execution_count": 81,
   "metadata": {},
   "outputs": [
    {
     "data": {
      "text/plain": [
       "28284"
      ]
     },
     "execution_count": 81,
     "metadata": {},
     "output_type": "execute_result"
    }
   ],
   "source": [
    "(data[\"abnormal_label\"] == 1).sum()"
   ]
  },
  {
   "cell_type": "code",
   "execution_count": 89,
   "metadata": {},
   "outputs": [
    {
     "data": {
      "text/plain": [
       "4271884108    20\n",
       "4275856215    20\n",
       "4193043860    16\n",
       "4272902282    15\n",
       "4263198458    14\n",
       "              ..\n",
       "4275725286     1\n",
       "4275725271     1\n",
       "4275725244     1\n",
       "4275725191     1\n",
       "4285735014     1\n",
       "Name: order_id, Length: 25107, dtype: int64"
      ]
     },
     "execution_count": 89,
     "metadata": {},
     "output_type": "execute_result"
    }
   ],
   "source": [
    "\n",
    "data.loc[data[\"abnormal_label\"]==1,\"order_id\"].value_counts()"
   ]
  },
  {
   "cell_type": "code",
   "execution_count": 90,
   "metadata": {},
   "outputs": [
    {
     "data": {
      "text/plain": [
       "20"
      ]
     },
     "execution_count": 90,
     "metadata": {},
     "output_type": "execute_result"
    }
   ],
   "source": [
    "(data[\"order_id\"] == 4271884108).sum()"
   ]
  },
  {
   "cell_type": "code",
   "execution_count": 91,
   "metadata": {},
   "outputs": [
    {
     "data": {
      "text/plain": [
       "20"
      ]
     },
     "execution_count": 91,
     "metadata": {},
     "output_type": "execute_result"
    }
   ],
   "source": [
    "data[data[\"order_id\"] == 4271884108].shape[0]"
   ]
  },
  {
   "cell_type": "code",
   "execution_count": 92,
   "metadata": {},
   "outputs": [
    {
     "data": {
      "text/plain": [
       "1560     1\n",
       "3931     1\n",
       "3932     1\n",
       "14800    1\n",
       "14801    1\n",
       "14802    1\n",
       "14803    1\n",
       "14804    1\n",
       "14805    1\n",
       "14806    1\n",
       "14807    1\n",
       "14808    1\n",
       "14809    1\n",
       "14810    1\n",
       "Name: abnormal_label, dtype: int64"
      ]
     },
     "execution_count": 92,
     "metadata": {},
     "output_type": "execute_result"
    }
   ],
   "source": [
    "data.loc[data[\"order_id\"] == 4263198458,\"abnormal_label\"]"
   ]
  },
  {
   "cell_type": "code",
   "execution_count": 93,
   "metadata": {},
   "outputs": [
    {
     "data": {
      "text/plain": [
       "4269390206    23\n",
       "4265415474    19\n",
       "4283339603    18\n",
       "4283874209    18\n",
       "4283339890    18\n",
       "              ..\n",
       "4203261483     1\n",
       "4203261361     1\n",
       "4203261263     1\n",
       "4203261137     1\n",
       "4285770056     1\n",
       "Name: order_id, Length: 89105, dtype: int64"
      ]
     },
     "execution_count": 93,
     "metadata": {},
     "output_type": "execute_result"
    }
   ],
   "source": [
    "data.loc[data[\"abnormal_label\"]!=1,\"order_id\"].value_counts()"
   ]
  },
  {
   "cell_type": "code",
   "execution_count": 94,
   "metadata": {},
   "outputs": [
    {
     "data": {
      "text/plain": [
       "0"
      ]
     },
     "execution_count": 94,
     "metadata": {},
     "output_type": "execute_result"
    }
   ],
   "source": [
    "data.loc[data[\"order_id\"] == 4269390206,\"abnormal_label\"].sum()"
   ]
  },
  {
   "cell_type": "code",
   "execution_count": 95,
   "metadata": {},
   "outputs": [],
   "source": [
    "label_1 = data.loc[data[\"abnormal_label\"]==1,\"order_id\"].value_counts()"
   ]
  },
  {
   "cell_type": "code",
   "execution_count": 96,
   "metadata": {},
   "outputs": [
    {
     "data": {
      "text/plain": [
       "4271884108    20\n",
       "4275856215    20\n",
       "4193043860    16\n",
       "4272902282    15\n",
       "4263198458    14\n",
       "              ..\n",
       "4275725286     1\n",
       "4275725271     1\n",
       "4275725244     1\n",
       "4275725191     1\n",
       "4285735014     1\n",
       "Name: order_id, Length: 25107, dtype: int64"
      ]
     },
     "execution_count": 96,
     "metadata": {},
     "output_type": "execute_result"
    }
   ],
   "source": [
    "label_1"
   ]
  },
  {
   "cell_type": "code",
   "execution_count": 97,
   "metadata": {},
   "outputs": [
    {
     "data": {
      "text/plain": [
       "Int64Index([4271884108, 4275856215, 4193043860, 4272902282, 4263198458,\n",
       "            4281345265, 4279735193, 4278223689, 4282015346, 4281811657,\n",
       "            ...\n",
       "            4275725467, 4275725368, 4275725356, 4275725347, 4275725322,\n",
       "            4275725286, 4275725271, 4275725244, 4275725191, 4285735014],\n",
       "           dtype='int64', length=25107)"
      ]
     },
     "execution_count": 97,
     "metadata": {},
     "output_type": "execute_result"
    }
   ],
   "source": [
    "label_1.index"
   ]
  },
  {
   "cell_type": "code",
   "execution_count": 98,
   "metadata": {},
   "outputs": [],
   "source": [
    "###=====【TIME WARNING: 3mins】=====###\n",
    "df = pd.DataFrame()\n",
    "for idx,i in enumerate(label_1.index):\n",
    "    ratio = label_1[i]/data[data[\"order_id\"] == i].shape[0]\n",
    "    df.loc[idx,\"order_id\"] = i\n",
    "    df.loc[idx,\"the proportion of anomaly samples to all samples under the same order_id\"] = ratio\n",
    "    #the proportion of anomaly samples to all samples under the same order_id"
   ]
  },
  {
   "cell_type": "code",
   "execution_count": 99,
   "metadata": {},
   "outputs": [
    {
     "data": {
      "text/plain": [
       "1.0    25102\n",
       "0.5        5\n",
       "Name: the proportion of anomaly samples to all samples under the same order_id, dtype: int64"
      ]
     },
     "execution_count": 99,
     "metadata": {},
     "output_type": "execute_result"
    }
   ],
   "source": [
    "df[\"the proportion of anomaly samples to all samples under the same order_id\"].value_counts()"
   ]
  },
  {
   "cell_type": "markdown",
   "metadata": {},
   "source": [
    "**Labels of all samples under the same order_id are the same.**"
   ]
  },
  {
   "cell_type": "code",
   "execution_count": 101,
   "metadata": {},
   "outputs": [
    {
     "data": {
      "text/plain": [
       "0         09\n",
       "1         09\n",
       "2         04\n",
       "3         03\n",
       "4         04\n",
       "          ..\n",
       "131277    03\n",
       "131278    01\n",
       "131279    03\n",
       "131280    09\n",
       "131281    05\n",
       "Name: order_date, Length: 131282, dtype: object"
      ]
     },
     "execution_count": 101,
     "metadata": {},
     "output_type": "execute_result"
    }
   ],
   "source": [
    "data[\"order_date\"].apply(lambda x: x[5:7])#extract month"
   ]
  },
  {
   "cell_type": "code",
   "execution_count": 102,
   "metadata": {},
   "outputs": [
    {
     "data": {
      "text/plain": [
       "10    11651\n",
       "06    11201\n",
       "09    11124\n",
       "03    11113\n",
       "07    11011\n",
       "01    10959\n",
       "04    10912\n",
       "05    10888\n",
       "12    10842\n",
       "08    10837\n",
       "11    10723\n",
       "02    10021\n",
       "Name: order_date, dtype: int64"
      ]
     },
     "execution_count": 102,
     "metadata": {},
     "output_type": "execute_result"
    }
   ],
   "source": [
    "#check the distribution of transaction volume per month\n",
    "OrderMonth = data[\"order_date\"].apply(lambda x: x[5:7])\n",
    "OrderMonth.value_counts()"
   ]
  },
  {
   "cell_type": "code",
   "execution_count": 103,
   "metadata": {},
   "outputs": [],
   "source": [
    "data.drop(columns=\"order_date\",inplace=True)\n",
    "#drop 'order_date' column"
   ]
  },
  {
   "cell_type": "code",
   "execution_count": 104,
   "metadata": {},
   "outputs": [
    {
     "data": {
      "text/plain": [
       "(131282, 13)"
      ]
     },
     "execution_count": 104,
     "metadata": {},
     "output_type": "execute_result"
    }
   ],
   "source": [
    "data.shape"
   ]
  },
  {
   "cell_type": "markdown",
   "metadata": {},
   "source": [
    "  "
   ]
  },
  {
   "cell_type": "markdown",
   "metadata": {},
   "source": [
    "### Handling Outliers"
   ]
  },
  {
   "cell_type": "markdown",
   "metadata": {},
   "source": [
    "- Continuous Data\n"
   ]
  },
  {
   "cell_type": "code",
   "execution_count": 105,
   "metadata": {},
   "outputs": [
    {
     "data": {
      "text/html": [
       "<div>\n",
       "<style scoped>\n",
       "    .dataframe tbody tr th:only-of-type {\n",
       "        vertical-align: middle;\n",
       "    }\n",
       "\n",
       "    .dataframe tbody tr th {\n",
       "        vertical-align: top;\n",
       "    }\n",
       "\n",
       "    .dataframe thead th {\n",
       "        text-align: right;\n",
       "    }\n",
       "</style>\n",
       "<table border=\"1\" class=\"dataframe\">\n",
       "  <thead>\n",
       "    <tr style=\"text-align: right;\">\n",
       "      <th></th>\n",
       "      <th>total_money</th>\n",
       "      <th>total_quantity</th>\n",
       "    </tr>\n",
       "  </thead>\n",
       "  <tbody>\n",
       "    <tr>\n",
       "      <th>0</th>\n",
       "      <td>766000.0</td>\n",
       "      <td>200</td>\n",
       "    </tr>\n",
       "    <tr>\n",
       "      <th>1</th>\n",
       "      <td>19900.0</td>\n",
       "      <td>100</td>\n",
       "    </tr>\n",
       "    <tr>\n",
       "      <th>2</th>\n",
       "      <td>100.0</td>\n",
       "      <td>100</td>\n",
       "    </tr>\n",
       "    <tr>\n",
       "      <th>3</th>\n",
       "      <td>990.0</td>\n",
       "      <td>100</td>\n",
       "    </tr>\n",
       "    <tr>\n",
       "      <th>4</th>\n",
       "      <td>8800.0</td>\n",
       "      <td>100</td>\n",
       "    </tr>\n",
       "    <tr>\n",
       "      <th>...</th>\n",
       "      <td>...</td>\n",
       "      <td>...</td>\n",
       "    </tr>\n",
       "    <tr>\n",
       "      <th>131277</th>\n",
       "      <td>2765.0</td>\n",
       "      <td>1</td>\n",
       "    </tr>\n",
       "    <tr>\n",
       "      <th>131278</th>\n",
       "      <td>2672.0</td>\n",
       "      <td>1</td>\n",
       "    </tr>\n",
       "    <tr>\n",
       "      <th>131279</th>\n",
       "      <td>128.0</td>\n",
       "      <td>1</td>\n",
       "    </tr>\n",
       "    <tr>\n",
       "      <th>131280</th>\n",
       "      <td>79.0</td>\n",
       "      <td>1</td>\n",
       "    </tr>\n",
       "    <tr>\n",
       "      <th>131281</th>\n",
       "      <td>799.0</td>\n",
       "      <td>1</td>\n",
       "    </tr>\n",
       "  </tbody>\n",
       "</table>\n",
       "<p>131282 rows × 2 columns</p>\n",
       "</div>"
      ],
      "text/plain": [
       "        total_money  total_quantity\n",
       "0          766000.0             200\n",
       "1           19900.0             100\n",
       "2             100.0             100\n",
       "3             990.0             100\n",
       "4            8800.0             100\n",
       "...             ...             ...\n",
       "131277       2765.0               1\n",
       "131278       2672.0               1\n",
       "131279        128.0               1\n",
       "131280         79.0               1\n",
       "131281        799.0               1\n",
       "\n",
       "[131282 rows x 2 columns]"
      ]
     },
     "execution_count": 105,
     "metadata": {},
     "output_type": "execute_result"
    }
   ],
   "source": [
    "data.loc[:,[\"total_money\",\"total_quantity\"]]"
   ]
  },
  {
   "cell_type": "code",
   "execution_count": 106,
   "metadata": {},
   "outputs": [
    {
     "data": {
      "text/html": [
       "<div>\n",
       "<style scoped>\n",
       "    .dataframe tbody tr th:only-of-type {\n",
       "        vertical-align: middle;\n",
       "    }\n",
       "\n",
       "    .dataframe tbody tr th {\n",
       "        vertical-align: top;\n",
       "    }\n",
       "\n",
       "    .dataframe thead th {\n",
       "        text-align: right;\n",
       "    }\n",
       "</style>\n",
       "<table border=\"1\" class=\"dataframe\">\n",
       "  <thead>\n",
       "    <tr style=\"text-align: right;\">\n",
       "      <th></th>\n",
       "      <th>total_money</th>\n",
       "      <th>total_quantity</th>\n",
       "    </tr>\n",
       "  </thead>\n",
       "  <tbody>\n",
       "    <tr>\n",
       "      <th>count</th>\n",
       "      <td>131282.000000</td>\n",
       "      <td>131282.000000</td>\n",
       "    </tr>\n",
       "    <tr>\n",
       "      <th>mean</th>\n",
       "      <td>667.187834</td>\n",
       "      <td>1.188975</td>\n",
       "    </tr>\n",
       "    <tr>\n",
       "      <th>std</th>\n",
       "      <td>2930.730828</td>\n",
       "      <td>1.684653</td>\n",
       "    </tr>\n",
       "    <tr>\n",
       "      <th>min</th>\n",
       "      <td>0.500000</td>\n",
       "      <td>1.000000</td>\n",
       "    </tr>\n",
       "    <tr>\n",
       "      <th>25%</th>\n",
       "      <td>29.000000</td>\n",
       "      <td>1.000000</td>\n",
       "    </tr>\n",
       "    <tr>\n",
       "      <th>50%</th>\n",
       "      <td>98.000000</td>\n",
       "      <td>1.000000</td>\n",
       "    </tr>\n",
       "    <tr>\n",
       "      <th>75%</th>\n",
       "      <td>379.000000</td>\n",
       "      <td>1.000000</td>\n",
       "    </tr>\n",
       "    <tr>\n",
       "      <th>max</th>\n",
       "      <td>766000.000000</td>\n",
       "      <td>200.000000</td>\n",
       "    </tr>\n",
       "  </tbody>\n",
       "</table>\n",
       "</div>"
      ],
      "text/plain": [
       "         total_money  total_quantity\n",
       "count  131282.000000   131282.000000\n",
       "mean      667.187834        1.188975\n",
       "std      2930.730828        1.684653\n",
       "min         0.500000        1.000000\n",
       "25%        29.000000        1.000000\n",
       "50%        98.000000        1.000000\n",
       "75%       379.000000        1.000000\n",
       "max    766000.000000      200.000000"
      ]
     },
     "execution_count": 106,
     "metadata": {},
     "output_type": "execute_result"
    }
   ],
   "source": [
    "data.loc[:,[\"total_money\",\"total_quantity\"]].describe() #数据左偏"
   ]
  },
  {
   "cell_type": "markdown",
   "metadata": {},
   "source": [
    "确认没有小于0的业务上不该出现的异常值，从分布来看两个连续型变量都可能出现大量的异常。"
   ]
  },
  {
   "cell_type": "code",
   "execution_count": 107,
   "metadata": {},
   "outputs": [
    {
     "data": {
      "image/png": "[encoded data removed]",
      "text/plain": [
       "<Figure size 800x640 with 1 Axes>"
      ]
     },
     "metadata": {
      "needs_background": "light"
     },
     "output_type": "display_data"
    }
   ],
   "source": [
    "import seaborn as sns\n",
    "plt.rcParams['font.sans-serif'] = ['Arial Unicode MS'] \n",
    "plt.rcParams['axes.unicode_minus'] = False   \n",
    "plt.figure(figsize=(10, 8), dpi=80)\n",
    "\n",
    "sns.kdeplot(data.loc[:, \"total_money\"],\n",
    "            shade=True,\n",
    "            color=\"#01a2d9\",\n",
    "            label=\"total_money\",\n",
    "            alpha=.7)\n",
    "\n",
    "sns.set(style=\"whitegrid\",font=\"simhei\", font_scale=1.1)\n",
    "plt.title(\"Total_money Probability Density Distribution\",fontsize=18)\n",
    "plt.yticks([])\n",
    "#plt.xlim((-10000,100000))\n",
    "#plt.xlim((-1,10000))\n",
    "plt.show()"
   ]
  },
  {
   "cell_type": "code",
   "execution_count": 108,
   "metadata": {},
   "outputs": [
    {
     "name": "stderr",
     "output_type": "stream",
     "text": [
      "findfont: Font family ['simhei'] not found. Falling back to DejaVu Sans.\n",
      "findfont: Font family ['simhei'] not found. Falling back to DejaVu Sans.\n",
      "findfont: Font family ['simhei'] not found. Falling back to DejaVu Sans.\n"
     ]
    },
    {
     "data": {
      "image/png": "[encoded data removed]",
      "text/plain": [
       "<Figure size 800x640 with 1 Axes>"
      ]
     },
     "metadata": {},
     "output_type": "display_data"
    }
   ],
   "source": [
    "plt.figure(figsize=(10, 8), dpi=80)\n",
    "sns.kdeplot(data.loc[:, \"total_quantity\"],\n",
    "            shade=True,\n",
    "            color=\"#dc2624\",\n",
    "            label=\"total_quantity\",\n",
    "            alpha=.7)\n",
    "#风格与装饰\n",
    "sns.set(style=\"whitegrid\",font=\"simhei\", font_scale=1.1)\n",
    "plt.title(\"Total_quantity Probability Density Distribution\",fontsize=18)\n",
    "plt.yticks([])\n",
    "#plt.xlim((-1,20))\n",
    "#plt.xlim((-1,5))\n",
    "plt.show()"
   ]
  },
  {
   "cell_type": "markdown",
   "metadata": {},
   "source": [
    "- Inspect outliers：boxplot\n",
    "> [QL-1.5\\*IQR, QU+1.5*IQR]\n"
   ]
  },
  {
   "cell_type": "code",
   "execution_count": 109,
   "metadata": {},
   "outputs": [],
   "source": [
    "NumOfSamples = data.shape[0]\n",
    "DataNoAbnormal = data.copy()\n",
    "BoxAbnormalIdx = [] \n",
    "for idx,column in enumerate([\"total_money\",\"total_quantity\"]):\n",
    "    feature = data.loc[:,column]\n",
    "    QL = np.quantile(feature,0.25)\n",
    "    QU = np.quantile(feature,0.75)\n",
    "    IQR = QU - QL\n",
    "    error = feature[((feature < (QL - 1.5*IQR)).astype(int) + (feature > (QU + 1.5*IQR)).astype(int)) != 0]\n",
    "    BoxAbnormalIdx.extend(error.index)"
   ]
  },
  {
   "cell_type": "code",
   "execution_count": 110,
   "metadata": {},
   "outputs": [
    {
     "data": {
      "text/plain": [
       "31266"
      ]
     },
     "execution_count": 110,
     "metadata": {},
     "output_type": "execute_result"
    }
   ],
   "source": [
    "len(BoxAbnormalIdx)"
   ]
  },
  {
   "cell_type": "code",
   "execution_count": 111,
   "metadata": {},
   "outputs": [],
   "source": [
    "BoxAbnormalIdx = set(BoxAbnormalIdx) #using set to remove duplicates"
   ]
  },
  {
   "cell_type": "code",
   "execution_count": 128,
   "metadata": {},
   "outputs": [
    {
     "data": {
      "text/plain": [
       "29949"
      ]
     },
     "execution_count": 128,
     "metadata": {},
     "output_type": "execute_result"
    }
   ],
   "source": [
    "len(BoxAbnormalIdx) #most samples have one abnormal feature"
   ]
  },
  {
   "cell_type": "code",
   "execution_count": 129,
   "metadata": {},
   "outputs": [
    {
     "data": {
      "text/plain": [
       "0.22812723754970216"
      ]
     },
     "execution_count": 129,
     "metadata": {},
     "output_type": "execute_result"
    }
   ],
   "source": [
    "len(BoxAbnormalIdx)/data.shape[0]"
   ]
  },
  {
   "cell_type": "code",
   "execution_count": 112,
   "metadata": {},
   "outputs": [
    {
     "name": "stderr",
     "output_type": "stream",
     "text": [
      "/var/folders/6r/w39cs75945v35_75hhr9_2nw0000gn/T/ipykernel_37409/2361160401.py:2: FutureWarning: Passing a set as an indexer is deprecated and will raise in a future version. Use a list instead.\n",
      "  (data.loc[BoxAbnormalIdx,\"abnormal_label\"] == 1).sum()\n"
     ]
    },
    {
     "data": {
      "text/plain": [
       "7368"
      ]
     },
     "execution_count": 112,
     "metadata": {},
     "output_type": "execute_result"
    }
   ],
   "source": [
    "(data.loc[BoxAbnormalIdx,\"abnormal_label\"] == 1).sum()"
   ]
  },
  {
   "cell_type": "code",
   "execution_count": 113,
   "metadata": {},
   "outputs": [],
   "source": [
    "df = pd.DataFrame(index=data.index)"
   ]
  },
  {
   "cell_type": "code",
   "execution_count": 114,
   "metadata": {},
   "outputs": [
    {
     "data": {
      "text/html": [
       "<div>\n",
       "<style scoped>\n",
       "    .dataframe tbody tr th:only-of-type {\n",
       "        vertical-align: middle;\n",
       "    }\n",
       "\n",
       "    .dataframe tbody tr th {\n",
       "        vertical-align: top;\n",
       "    }\n",
       "\n",
       "    .dataframe thead th {\n",
       "        text-align: right;\n",
       "    }\n",
       "</style>\n",
       "<table border=\"1\" class=\"dataframe\">\n",
       "  <thead>\n",
       "    <tr style=\"text-align: right;\">\n",
       "      <th></th>\n",
       "    </tr>\n",
       "  </thead>\n",
       "  <tbody>\n",
       "    <tr>\n",
       "      <th>0</th>\n",
       "    </tr>\n",
       "    <tr>\n",
       "      <th>1</th>\n",
       "    </tr>\n",
       "    <tr>\n",
       "      <th>2</th>\n",
       "    </tr>\n",
       "    <tr>\n",
       "      <th>3</th>\n",
       "    </tr>\n",
       "    <tr>\n",
       "      <th>4</th>\n",
       "    </tr>\n",
       "    <tr>\n",
       "      <th>...</th>\n",
       "    </tr>\n",
       "    <tr>\n",
       "      <th>131277</th>\n",
       "    </tr>\n",
       "    <tr>\n",
       "      <th>131278</th>\n",
       "    </tr>\n",
       "    <tr>\n",
       "      <th>131279</th>\n",
       "    </tr>\n",
       "    <tr>\n",
       "      <th>131280</th>\n",
       "    </tr>\n",
       "    <tr>\n",
       "      <th>131281</th>\n",
       "    </tr>\n",
       "  </tbody>\n",
       "</table>\n",
       "<p>131282 rows × 0 columns</p>\n",
       "</div>"
      ],
      "text/plain": [
       "Empty DataFrame\n",
       "Columns: []\n",
       "Index: [0, 1, 2, 3, 4, 5, 6, 7, 8, 9, 10, 11, 12, 13, 14, 15, 16, 17, 18, 19, 20, 21, 22, 23, 24, 25, 26, 27, 28, 29, 30, 31, 32, 33, 34, 35, 36, 37, 38, 39, 40, 41, 42, 43, 44, 45, 46, 47, 48, 49, 50, 51, 52, 53, 54, 55, 56, 57, 58, 59, 60, 61, 62, 63, 64, 65, 66, 67, 68, 69, 70, 71, 72, 73, 74, 75, 76, 77, 78, 79, 80, 81, 82, 83, 84, 85, 86, 87, 88, 89, 90, 91, 92, 93, 94, 95, 96, 97, 98, 99, ...]\n",
       "\n",
       "[131282 rows x 0 columns]"
      ]
     },
     "execution_count": 114,
     "metadata": {},
     "output_type": "execute_result"
    }
   ],
   "source": [
    "df"
   ]
  },
  {
   "cell_type": "code",
   "execution_count": 115,
   "metadata": {},
   "outputs": [],
   "source": [
    "df[\"abnormal_feature\"] = 0"
   ]
  },
  {
   "cell_type": "code",
   "execution_count": 116,
   "metadata": {},
   "outputs": [
    {
     "data": {
      "text/html": [
       "<div>\n",
       "<style scoped>\n",
       "    .dataframe tbody tr th:only-of-type {\n",
       "        vertical-align: middle;\n",
       "    }\n",
       "\n",
       "    .dataframe tbody tr th {\n",
       "        vertical-align: top;\n",
       "    }\n",
       "\n",
       "    .dataframe thead th {\n",
       "        text-align: right;\n",
       "    }\n",
       "</style>\n",
       "<table border=\"1\" class=\"dataframe\">\n",
       "  <thead>\n",
       "    <tr style=\"text-align: right;\">\n",
       "      <th></th>\n",
       "      <th>abnormal_feature</th>\n",
       "    </tr>\n",
       "  </thead>\n",
       "  <tbody>\n",
       "    <tr>\n",
       "      <th>0</th>\n",
       "      <td>0</td>\n",
       "    </tr>\n",
       "    <tr>\n",
       "      <th>1</th>\n",
       "      <td>0</td>\n",
       "    </tr>\n",
       "    <tr>\n",
       "      <th>2</th>\n",
       "      <td>0</td>\n",
       "    </tr>\n",
       "    <tr>\n",
       "      <th>3</th>\n",
       "      <td>0</td>\n",
       "    </tr>\n",
       "    <tr>\n",
       "      <th>4</th>\n",
       "      <td>0</td>\n",
       "    </tr>\n",
       "    <tr>\n",
       "      <th>...</th>\n",
       "      <td>...</td>\n",
       "    </tr>\n",
       "    <tr>\n",
       "      <th>131277</th>\n",
       "      <td>0</td>\n",
       "    </tr>\n",
       "    <tr>\n",
       "      <th>131278</th>\n",
       "      <td>0</td>\n",
       "    </tr>\n",
       "    <tr>\n",
       "      <th>131279</th>\n",
       "      <td>0</td>\n",
       "    </tr>\n",
       "    <tr>\n",
       "      <th>131280</th>\n",
       "      <td>0</td>\n",
       "    </tr>\n",
       "    <tr>\n",
       "      <th>131281</th>\n",
       "      <td>0</td>\n",
       "    </tr>\n",
       "  </tbody>\n",
       "</table>\n",
       "<p>131282 rows × 1 columns</p>\n",
       "</div>"
      ],
      "text/plain": [
       "        abnormal_feature\n",
       "0                      0\n",
       "1                      0\n",
       "2                      0\n",
       "3                      0\n",
       "4                      0\n",
       "...                  ...\n",
       "131277                 0\n",
       "131278                 0\n",
       "131279                 0\n",
       "131280                 0\n",
       "131281                 0\n",
       "\n",
       "[131282 rows x 1 columns]"
      ]
     },
     "execution_count": 116,
     "metadata": {},
     "output_type": "execute_result"
    }
   ],
   "source": [
    "df"
   ]
  },
  {
   "cell_type": "code",
   "execution_count": 117,
   "metadata": {},
   "outputs": [
    {
     "name": "stderr",
     "output_type": "stream",
     "text": [
      "/var/folders/6r/w39cs75945v35_75hhr9_2nw0000gn/T/ipykernel_37409/833598610.py:1: FutureWarning: Passing a set as an indexer is deprecated and will raise in a future version. Use a list instead.\n",
      "  df.loc[BoxAbnormalIdx,\"abnormal_feature\"] = 1\n"
     ]
    }
   ],
   "source": [
    "df.loc[BoxAbnormalIdx,\"abnormal_feature\"] = 1"
   ]
  },
  {
   "cell_type": "code",
   "execution_count": 118,
   "metadata": {},
   "outputs": [
    {
     "data": {
      "text/html": [
       "<div>\n",
       "<style scoped>\n",
       "    .dataframe tbody tr th:only-of-type {\n",
       "        vertical-align: middle;\n",
       "    }\n",
       "\n",
       "    .dataframe tbody tr th {\n",
       "        vertical-align: top;\n",
       "    }\n",
       "\n",
       "    .dataframe thead th {\n",
       "        text-align: right;\n",
       "    }\n",
       "</style>\n",
       "<table border=\"1\" class=\"dataframe\">\n",
       "  <thead>\n",
       "    <tr style=\"text-align: right;\">\n",
       "      <th></th>\n",
       "      <th>abnormal_feature</th>\n",
       "    </tr>\n",
       "  </thead>\n",
       "  <tbody>\n",
       "    <tr>\n",
       "      <th>0</th>\n",
       "      <td>1</td>\n",
       "    </tr>\n",
       "    <tr>\n",
       "      <th>1</th>\n",
       "      <td>1</td>\n",
       "    </tr>\n",
       "    <tr>\n",
       "      <th>2</th>\n",
       "      <td>1</td>\n",
       "    </tr>\n",
       "    <tr>\n",
       "      <th>3</th>\n",
       "      <td>1</td>\n",
       "    </tr>\n",
       "    <tr>\n",
       "      <th>4</th>\n",
       "      <td>1</td>\n",
       "    </tr>\n",
       "    <tr>\n",
       "      <th>...</th>\n",
       "      <td>...</td>\n",
       "    </tr>\n",
       "    <tr>\n",
       "      <th>131277</th>\n",
       "      <td>1</td>\n",
       "    </tr>\n",
       "    <tr>\n",
       "      <th>131278</th>\n",
       "      <td>1</td>\n",
       "    </tr>\n",
       "    <tr>\n",
       "      <th>131279</th>\n",
       "      <td>0</td>\n",
       "    </tr>\n",
       "    <tr>\n",
       "      <th>131280</th>\n",
       "      <td>0</td>\n",
       "    </tr>\n",
       "    <tr>\n",
       "      <th>131281</th>\n",
       "      <td>0</td>\n",
       "    </tr>\n",
       "  </tbody>\n",
       "</table>\n",
       "<p>131282 rows × 1 columns</p>\n",
       "</div>"
      ],
      "text/plain": [
       "        abnormal_feature\n",
       "0                      1\n",
       "1                      1\n",
       "2                      1\n",
       "3                      1\n",
       "4                      1\n",
       "...                  ...\n",
       "131277                 1\n",
       "131278                 1\n",
       "131279                 0\n",
       "131280                 0\n",
       "131281                 0\n",
       "\n",
       "[131282 rows x 1 columns]"
      ]
     },
     "execution_count": 118,
     "metadata": {},
     "output_type": "execute_result"
    }
   ],
   "source": [
    "df"
   ]
  },
  {
   "cell_type": "code",
   "execution_count": 120,
   "metadata": {},
   "outputs": [
    {
     "data": {
      "text/html": [
       "<div>\n",
       "<style scoped>\n",
       "    .dataframe tbody tr th:only-of-type {\n",
       "        vertical-align: middle;\n",
       "    }\n",
       "\n",
       "    .dataframe tbody tr th {\n",
       "        vertical-align: top;\n",
       "    }\n",
       "\n",
       "    .dataframe thead th {\n",
       "        text-align: right;\n",
       "    }\n",
       "</style>\n",
       "<table border=\"1\" class=\"dataframe\">\n",
       "  <thead>\n",
       "    <tr style=\"text-align: right;\">\n",
       "      <th></th>\n",
       "      <th>abnormal_feature</th>\n",
       "      <th>abnormal_label</th>\n",
       "    </tr>\n",
       "  </thead>\n",
       "  <tbody>\n",
       "    <tr>\n",
       "      <th>abnormal_feature</th>\n",
       "      <td>1.000000</td>\n",
       "      <td>0.040428</td>\n",
       "    </tr>\n",
       "    <tr>\n",
       "      <th>abnormal_label</th>\n",
       "      <td>0.040428</td>\n",
       "      <td>1.000000</td>\n",
       "    </tr>\n",
       "  </tbody>\n",
       "</table>\n",
       "</div>"
      ],
      "text/plain": [
       "                  abnormal_feature  abnormal_label\n",
       "abnormal_feature          1.000000        0.040428\n",
       "abnormal_label            0.040428        1.000000"
      ]
     },
     "execution_count": 120,
     "metadata": {},
     "output_type": "execute_result"
    }
   ],
   "source": [
    "pd.concat([df[\"abnormal_feature\"],data[\"abnormal_label\"]],axis=1).corr()"
   ]
  },
  {
   "cell_type": "code",
   "execution_count": 121,
   "metadata": {},
   "outputs": [
    {
     "data": {
      "text/html": [
       "<div>\n",
       "<style scoped>\n",
       "    .dataframe tbody tr th:only-of-type {\n",
       "        vertical-align: middle;\n",
       "    }\n",
       "\n",
       "    .dataframe tbody tr th {\n",
       "        vertical-align: top;\n",
       "    }\n",
       "\n",
       "    .dataframe thead th {\n",
       "        text-align: right;\n",
       "    }\n",
       "</style>\n",
       "<table border=\"1\" class=\"dataframe\">\n",
       "  <thead>\n",
       "    <tr style=\"text-align: right;\">\n",
       "      <th></th>\n",
       "      <th>order_id</th>\n",
       "      <th>order_time</th>\n",
       "      <th>cat</th>\n",
       "      <th>attribution</th>\n",
       "      <th>pro_id</th>\n",
       "      <th>pro_brand</th>\n",
       "      <th>total_money</th>\n",
       "      <th>total_quantity</th>\n",
       "      <th>order_source</th>\n",
       "      <th>pay_type</th>\n",
       "      <th>user_id</th>\n",
       "      <th>city</th>\n",
       "      <th>abnormal_label</th>\n",
       "    </tr>\n",
       "  </thead>\n",
       "  <tbody>\n",
       "    <tr>\n",
       "      <th>0</th>\n",
       "      <td>4283851335</td>\n",
       "      <td>14:09:49</td>\n",
       "      <td>手机摄影数码</td>\n",
       "      <td>POP</td>\n",
       "      <td>8002042497</td>\n",
       "      <td>三星</td>\n",
       "      <td>766000.0</td>\n",
       "      <td>200</td>\n",
       "      <td>主站</td>\n",
       "      <td>合并支付</td>\n",
       "      <td>dakehu_zy</td>\n",
       "      <td>上海市</td>\n",
       "      <td>1</td>\n",
       "    </tr>\n",
       "    <tr>\n",
       "      <th>1</th>\n",
       "      <td>4276537082</td>\n",
       "      <td>14:16:47</td>\n",
       "      <td>电视冰箱洗衣机空调</td>\n",
       "      <td>POP</td>\n",
       "      <td>8001992420</td>\n",
       "      <td>樱花</td>\n",
       "      <td>19900.0</td>\n",
       "      <td>100</td>\n",
       "      <td>主站</td>\n",
       "      <td>合并支付</td>\n",
       "      <td>qq-3be293b</td>\n",
       "      <td>泉州市</td>\n",
       "      <td>1</td>\n",
       "    </tr>\n",
       "    <tr>\n",
       "      <th>2</th>\n",
       "      <td>4281111595</td>\n",
       "      <td>10:44:46</td>\n",
       "      <td>家具建材</td>\n",
       "      <td>POP</td>\n",
       "      <td>8002199518</td>\n",
       "      <td>纬度空间</td>\n",
       "      <td>100.0</td>\n",
       "      <td>100</td>\n",
       "      <td>主站</td>\n",
       "      <td>合并支付</td>\n",
       "      <td>nonscorpio</td>\n",
       "      <td>广州市</td>\n",
       "      <td>1</td>\n",
       "    </tr>\n",
       "    <tr>\n",
       "      <th>3</th>\n",
       "      <td>3977175284</td>\n",
       "      <td>23:26:19</td>\n",
       "      <td>手机摄影数码</td>\n",
       "      <td>POP</td>\n",
       "      <td>8002237611</td>\n",
       "      <td>伊斯贝</td>\n",
       "      <td>990.0</td>\n",
       "      <td>100</td>\n",
       "      <td>主站</td>\n",
       "      <td>合并支付</td>\n",
       "      <td>swt6263122</td>\n",
       "      <td>宁德市</td>\n",
       "      <td>0</td>\n",
       "    </tr>\n",
       "    <tr>\n",
       "      <th>4</th>\n",
       "      <td>4106833871</td>\n",
       "      <td>16:47:34</td>\n",
       "      <td>家居日用</td>\n",
       "      <td>POP</td>\n",
       "      <td>8002212182</td>\n",
       "      <td>品道天元</td>\n",
       "      <td>8800.0</td>\n",
       "      <td>100</td>\n",
       "      <td>主站</td>\n",
       "      <td>合并支付</td>\n",
       "      <td>qq-edf69d7</td>\n",
       "      <td>深圳市</td>\n",
       "      <td>0</td>\n",
       "    </tr>\n",
       "  </tbody>\n",
       "</table>\n",
       "</div>"
      ],
      "text/plain": [
       "     order_id order_time        cat attribution      pro_id pro_brand  \\\n",
       "0  4283851335   14:09:49     手机摄影数码         POP  8002042497        三星   \n",
       "1  4276537082   14:16:47  电视冰箱洗衣机空调         POP  8001992420        樱花   \n",
       "2  4281111595   10:44:46       家具建材         POP  8002199518      纬度空间   \n",
       "3  3977175284   23:26:19     手机摄影数码         POP  8002237611       伊斯贝   \n",
       "4  4106833871   16:47:34       家居日用         POP  8002212182      品道天元   \n",
       "\n",
       "   total_money  total_quantity order_source pay_type     user_id city  \\\n",
       "0     766000.0             200           主站     合并支付   dakehu_zy  上海市   \n",
       "1      19900.0             100           主站     合并支付  qq-3be293b  泉州市   \n",
       "2        100.0             100           主站     合并支付  nonscorpio  广州市   \n",
       "3        990.0             100           主站     合并支付  swt6263122  宁德市   \n",
       "4       8800.0             100           主站     合并支付  qq-edf69d7  深圳市   \n",
       "\n",
       "   abnormal_label  \n",
       "0               1  \n",
       "1               1  \n",
       "2               1  \n",
       "3               0  \n",
       "4               0  "
      ]
     },
     "execution_count": 121,
     "metadata": {},
     "output_type": "execute_result"
    }
   ],
   "source": [
    "data.head()"
   ]
  },
  {
   "cell_type": "code",
   "execution_count": 122,
   "metadata": {},
   "outputs": [],
   "source": [
    "data.to_csv(r'data\\abnormal_order2.csv')"
   ]
  },
  {
   "cell_type": "code",
   "execution_count": null,
   "metadata": {},
   "outputs": [],
   "source": []
  }
 ],
 "metadata": {
  "kernelspec": {
   "display_name": "Python 3 (ipykernel)",
   "language": "python",
   "name": "python3"
  },
  "language_info": {
   "codemirror_mode": {
    "name": "ipython",
    "version": 3
   },
   "file_extension": ".py",
   "mimetype": "text/x-python",
   "name": "python",
   "nbconvert_exporter": "python",
   "pygments_lexer": "ipython3",
   "version": "3.9.12"
  }
 },
 "nbformat": 4,
 "nbformat_minor": 4
}
